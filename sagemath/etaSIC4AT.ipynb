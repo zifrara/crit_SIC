{
 "cells": [
  {
   "cell_type": "code",
   "execution_count": 2,
   "id": "breathing-graduate",
   "metadata": {},
   "outputs": [],
   "source": [
    "import csv\n",
    "from csv import reader\n",
    "\n",
    "C4=graphs.CycleGraph(4)\n",
    "Smo10=Graph([[0,1],[0,2],[0,3],[0,4],[1,2],[3,4],[5,9],[6,9],[7,9],[8,9],[5,6],[7,8],[1,5],[4,8],[2,7],[3,6]])\n",
    "\n",
    "candidatos=[]\n",
    "candidatossic=[]"
   ]
  },
  {
   "cell_type": "code",
   "execution_count": 2,
   "id": "thrown-crystal",
   "metadata": {},
   "outputs": [
    {
     "name": "stdout",
     "output_type": "stream",
     "text": [
      "<_csv.reader object at 0x7f41ba317e40>\n",
      "200\n",
      "400\n",
      "600\n",
      "800\n",
      "1000\n",
      "1200\n",
      "1400\n",
      "1600\n",
      "1800\n",
      "2000\n",
      "2200\n",
      "2400\n",
      "2600\n"
     ]
    },
    {
     "ename": "KeyboardInterrupt",
     "evalue": "",
     "output_type": "error",
     "traceback": [
      "\u001b[0;31m---------------------------------------------------------------------------\u001b[0m",
      "\u001b[0;31mKeyboardInterrupt\u001b[0m                         Traceback (most recent call last)",
      "\u001b[0;32m<ipython-input-2-fd0fe85f7f7e>\u001b[0m in \u001b[0;36m<module>\u001b[0;34m\u001b[0m\n\u001b[1;32m     28\u001b[0m                 \u001b[0;32mif\u001b[0m \u001b[0mg\u001b[0m\u001b[0;34m.\u001b[0m\u001b[0mclique_number\u001b[0m\u001b[0;34m(\u001b[0m\u001b[0;34m)\u001b[0m \u001b[0;34m<=\u001b[0m \u001b[0mInteger\u001b[0m\u001b[0;34m(\u001b[0m\u001b[0;36m3\u001b[0m\u001b[0;34m)\u001b[0m\u001b[0;34m:\u001b[0m\u001b[0;34m\u001b[0m\u001b[0;34m\u001b[0m\u001b[0m\n\u001b[1;32m     29\u001b[0m                     \u001b[0momega\u001b[0m\u001b[0;34m=\u001b[0m \u001b[0mg\u001b[0m\u001b[0;34m.\u001b[0m\u001b[0mclique_number\u001b[0m\u001b[0;34m(\u001b[0m\u001b[0;34m)\u001b[0m\u001b[0;34m\u001b[0m\u001b[0;34m\u001b[0m\u001b[0m\n\u001b[0;32m---> 30\u001b[0;31m                     \u001b[0mchromo\u001b[0m\u001b[0;34m=\u001b[0m \u001b[0mg\u001b[0m\u001b[0;34m.\u001b[0m\u001b[0mchromatic_number\u001b[0m\u001b[0;34m(\u001b[0m\u001b[0;34m)\u001b[0m\u001b[0;34m\u001b[0m\u001b[0;34m\u001b[0m\u001b[0m\n\u001b[0m\u001b[1;32m     31\u001b[0m                     \u001b[0;32mif\u001b[0m \u001b[0mchromo\u001b[0m \u001b[0;34m>\u001b[0m \u001b[0mInteger\u001b[0m\u001b[0;34m(\u001b[0m\u001b[0;36m3\u001b[0m\u001b[0;34m)\u001b[0m\u001b[0;34m:\u001b[0m\u001b[0;34m\u001b[0m\u001b[0;34m\u001b[0m\u001b[0m\n\u001b[1;32m     32\u001b[0m                         \u001b[0;32mif\u001b[0m \u001b[0mg\u001b[0m\u001b[0;34m.\u001b[0m\u001b[0msubgraph_search\u001b[0m\u001b[0;34m(\u001b[0m\u001b[0mSmo10\u001b[0m\u001b[0;34m)\u001b[0m \u001b[0;34m==\u001b[0m \u001b[0;32mNone\u001b[0m\u001b[0;34m:\u001b[0m\u001b[0;34m\u001b[0m\u001b[0;34m\u001b[0m\u001b[0m\n",
      "\u001b[0;32m/usr/lib/python3/dist-packages/sage/graphs/graph.py\u001b[0m in \u001b[0;36mchromatic_number\u001b[0;34m(self, algorithm, solver, verbose)\u001b[0m\n\u001b[1;32m   3999\u001b[0m         \u001b[0;32mif\u001b[0m \u001b[0malgorithm\u001b[0m \u001b[0;34m==\u001b[0m \u001b[0;34m\"DLX\"\u001b[0m\u001b[0;34m:\u001b[0m\u001b[0;34m\u001b[0m\u001b[0;34m\u001b[0m\u001b[0m\n\u001b[1;32m   4000\u001b[0m             \u001b[0;32mfrom\u001b[0m \u001b[0msage\u001b[0m\u001b[0;34m.\u001b[0m\u001b[0mgraphs\u001b[0m\u001b[0;34m.\u001b[0m\u001b[0mgraph_coloring\u001b[0m \u001b[0;32mimport\u001b[0m \u001b[0mchromatic_number\u001b[0m\u001b[0;34m\u001b[0m\u001b[0;34m\u001b[0m\u001b[0m\n\u001b[0;32m-> 4001\u001b[0;31m             \u001b[0;32mreturn\u001b[0m \u001b[0mchromatic_number\u001b[0m\u001b[0;34m(\u001b[0m\u001b[0mself\u001b[0m\u001b[0;34m)\u001b[0m\u001b[0;34m\u001b[0m\u001b[0;34m\u001b[0m\u001b[0m\n\u001b[0m\u001b[1;32m   4002\u001b[0m         \u001b[0;31m# Algorithm with good performance, but requires an optional\u001b[0m\u001b[0;34m\u001b[0m\u001b[0;34m\u001b[0m\u001b[0m\n\u001b[1;32m   4003\u001b[0m         \u001b[0;31m# package: choose any of GLPK or CBC.\u001b[0m\u001b[0;34m\u001b[0m\u001b[0;34m\u001b[0m\u001b[0m\n",
      "\u001b[0;32m/usr/lib/python3/dist-packages/sage/graphs/graph_coloring.pyx\u001b[0m in \u001b[0;36msage.graphs.graph_coloring.chromatic_number (build/cythonized/sage/graphs/graph_coloring.cpp:6410)\u001b[0;34m()\u001b[0m\n\u001b[1;32m    343\u001b[0m     \u001b[0;32mreturn\u001b[0m \u001b[0manswer\u001b[0m\u001b[0;34m\u001b[0m\u001b[0;34m\u001b[0m\u001b[0m\n\u001b[1;32m    344\u001b[0m \u001b[0;34m\u001b[0m\u001b[0m\n\u001b[0;32m--> 345\u001b[0;31m \u001b[0mcpdef\u001b[0m \u001b[0mchromatic_number\u001b[0m\u001b[0;34m(\u001b[0m\u001b[0mG\u001b[0m\u001b[0;34m)\u001b[0m\u001b[0;34m:\u001b[0m\u001b[0;34m\u001b[0m\u001b[0;34m\u001b[0m\u001b[0m\n\u001b[0m\u001b[1;32m    346\u001b[0m     r\"\"\"\n\u001b[1;32m    347\u001b[0m     \u001b[0mReturn\u001b[0m \u001b[0mthe\u001b[0m \u001b[0mchromatic\u001b[0m \u001b[0mnumber\u001b[0m \u001b[0mof\u001b[0m \u001b[0mthe\u001b[0m \u001b[0mgraph\u001b[0m\u001b[0;34m.\u001b[0m\u001b[0;34m\u001b[0m\u001b[0;34m\u001b[0m\u001b[0m\n",
      "\u001b[0;32m/usr/lib/python3/dist-packages/sage/graphs/graph_coloring.pyx\u001b[0m in \u001b[0;36msage.graphs.graph_coloring.chromatic_number (build/cythonized/sage/graphs/graph_coloring.cpp:6325)\u001b[0;34m()\u001b[0m\n\u001b[1;32m    375\u001b[0m         \u001b[0;32mreturn\u001b[0m \u001b[0mm\u001b[0m\u001b[0;34m\u001b[0m\u001b[0;34m\u001b[0m\u001b[0m\n\u001b[1;32m    376\u001b[0m     \u001b[0;32mfor\u001b[0m \u001b[0mn\u001b[0m \u001b[0;32min\u001b[0m \u001b[0mrange\u001b[0m\u001b[0;34m(\u001b[0m\u001b[0mm\u001b[0m\u001b[0;34m,\u001b[0m \u001b[0mo\u001b[0m \u001b[0;34m+\u001b[0m \u001b[0;36m1\u001b[0m\u001b[0;34m)\u001b[0m\u001b[0;34m:\u001b[0m\u001b[0;34m\u001b[0m\u001b[0;34m\u001b[0m\u001b[0m\n\u001b[0;32m--> 377\u001b[0;31m         \u001b[0;32mfor\u001b[0m \u001b[0mC\u001b[0m \u001b[0;32min\u001b[0m \u001b[0mall_graph_colorings\u001b[0m\u001b[0;34m(\u001b[0m\u001b[0mG\u001b[0m\u001b[0;34m,\u001b[0m \u001b[0mn\u001b[0m\u001b[0;34m)\u001b[0m\u001b[0;34m:\u001b[0m\u001b[0;34m\u001b[0m\u001b[0;34m\u001b[0m\u001b[0m\n\u001b[0m\u001b[1;32m    378\u001b[0m             \u001b[0;32mreturn\u001b[0m \u001b[0mn\u001b[0m\u001b[0;34m\u001b[0m\u001b[0;34m\u001b[0m\u001b[0m\n\u001b[1;32m    379\u001b[0m \u001b[0;34m\u001b[0m\u001b[0m\n",
      "\u001b[0;32m/usr/lib/python3/dist-packages/sage/graphs/graph_coloring.pyx\u001b[0m in \u001b[0;36mall_graph_colorings (build/cythonized/sage/graphs/graph_coloring.cpp:4153)\u001b[0;34m()\u001b[0m\n\u001b[1;32m    232\u001b[0m \u001b[0;34m\u001b[0m\u001b[0m\n\u001b[1;32m    233\u001b[0m     \u001b[0;32mtry\u001b[0m\u001b[0;34m:\u001b[0m\u001b[0;34m\u001b[0m\u001b[0;34m\u001b[0m\u001b[0m\n\u001b[0;32m--> 234\u001b[0;31m         \u001b[0;32mfor\u001b[0m \u001b[0ma\u001b[0m \u001b[0;32min\u001b[0m \u001b[0mDLXCPP\u001b[0m\u001b[0;34m(\u001b[0m\u001b[0mones_second\u001b[0m\u001b[0;34m)\u001b[0m\u001b[0;34m:\u001b[0m\u001b[0;34m\u001b[0m\u001b[0;34m\u001b[0m\u001b[0m\n\u001b[0m\u001b[1;32m    235\u001b[0m             \u001b[0;32mif\u001b[0m \u001b[0mcount_only\u001b[0m\u001b[0;34m:\u001b[0m\u001b[0;34m\u001b[0m\u001b[0;34m\u001b[0m\u001b[0m\n\u001b[1;32m    236\u001b[0m                 \u001b[0;32myield\u001b[0m \u001b[0;36m1\u001b[0m\u001b[0;34m\u001b[0m\u001b[0;34m\u001b[0m\u001b[0m\n",
      "\u001b[0;32m/usr/lib/python3/dist-packages/sage/combinat/matrices/dlxcpp.py\u001b[0m in \u001b[0;36mDLXCPP\u001b[0;34m(rows)\u001b[0m\n\u001b[1;32m     85\u001b[0m     \u001b[0mx\u001b[0m \u001b[0;34m=\u001b[0m \u001b[0mdlx_solver\u001b[0m\u001b[0;34m(\u001b[0m\u001b[0mrows\u001b[0m\u001b[0;34m)\u001b[0m\u001b[0;34m\u001b[0m\u001b[0;34m\u001b[0m\u001b[0m\n\u001b[1;32m     86\u001b[0m \u001b[0;34m\u001b[0m\u001b[0m\n\u001b[0;32m---> 87\u001b[0;31m     \u001b[0;32mwhile\u001b[0m \u001b[0mx\u001b[0m\u001b[0;34m.\u001b[0m\u001b[0msearch\u001b[0m\u001b[0;34m(\u001b[0m\u001b[0;34m)\u001b[0m\u001b[0;34m:\u001b[0m\u001b[0;34m\u001b[0m\u001b[0;34m\u001b[0m\u001b[0m\n\u001b[0m\u001b[1;32m     88\u001b[0m         \u001b[0;32myield\u001b[0m \u001b[0mx\u001b[0m\u001b[0;34m.\u001b[0m\u001b[0mget_solution\u001b[0m\u001b[0;34m(\u001b[0m\u001b[0;34m)\u001b[0m\u001b[0;34m\u001b[0m\u001b[0;34m\u001b[0m\u001b[0m\n\u001b[1;32m     89\u001b[0m \u001b[0;34m\u001b[0m\u001b[0m\n",
      "\u001b[0;32m/usr/lib/python3/dist-packages/sage/combinat/matrices/dancing_links.pyx\u001b[0m in \u001b[0;36msage.combinat.matrices.dancing_links.dancing_linksWrapper.search (build/cythonized/sage/combinat/matrices/dancing_links.cpp:3170)\u001b[0;34m()\u001b[0m\n\u001b[1;32m    398\u001b[0m             \u001b[0;36m0\u001b[0m\u001b[0;34m\u001b[0m\u001b[0;34m\u001b[0m\u001b[0m\n\u001b[1;32m    399\u001b[0m         \"\"\"\n\u001b[0;32m--> 400\u001b[0;31m         \u001b[0msig_on\u001b[0m\u001b[0;34m(\u001b[0m\u001b[0;34m)\u001b[0m\u001b[0;34m\u001b[0m\u001b[0;34m\u001b[0m\u001b[0m\n\u001b[0m\u001b[1;32m    401\u001b[0m         \u001b[0mx\u001b[0m \u001b[0;34m=\u001b[0m \u001b[0mself\u001b[0m\u001b[0;34m.\u001b[0m\u001b[0m_x\u001b[0m\u001b[0;34m.\u001b[0m\u001b[0msearch\u001b[0m\u001b[0;34m(\u001b[0m\u001b[0;34m)\u001b[0m\u001b[0;34m\u001b[0m\u001b[0;34m\u001b[0m\u001b[0m\n\u001b[1;32m    402\u001b[0m         \u001b[0msig_off\u001b[0m\u001b[0;34m(\u001b[0m\u001b[0;34m)\u001b[0m\u001b[0;34m\u001b[0m\u001b[0;34m\u001b[0m\u001b[0m\n",
      "\u001b[0;31mKeyboardInterrupt\u001b[0m: "
     ]
    }
   ],
   "source": [
    "i=0\n",
    "with open('AT4.txt','r') as read_obj:\n",
    "    ops = csv.reader(read_obj,delimiter=',')\n",
    "    print(ops)\n",
    "    # Check file as empty\n",
    "    if ops != None:\n",
    "    # Iterate over each row after the header in the csv\n",
    "        for row in ops:\n",
    "        # row variable is a list that represents a row in csv\n",
    "            lin=[]\n",
    "            for s in row:\n",
    "                n=eval(s)\n",
    "                lin=lin+[n]\n",
    "            #print(lin)\n",
    "            deg=[]\n",
    "            for n in range(0,len(lin),2):\n",
    "                deg=deg + [[lin[n],lin[n+1]]]\n",
    "            #print(deg)\n",
    "            g = Graph(deg,format='list_of_edges')\n",
    "            #g.show()\n",
    "    \n",
    "            i=i+1\n",
    "            if i.mod(200) ==0 :\n",
    "                print(i) \n",
    "            vertices=len(g.vertices())\n",
    "            \n",
    "            if g.subgraph_search(C4) == None:\n",
    "                if g.clique_number() <= 3:\n",
    "                    omega= g.clique_number()\n",
    "                    chromo= g.chromatic_number()\n",
    "                    if chromo > 3:\n",
    "                        if g.subgraph_search(Smo10) == None:\n",
    "                            candidatossic=candidatossic + [[g, vertices,omega,chromo,deg]] \n",
    "                            print('POSIBLE SIC')\n",
    "                            print(vertices,omega,chromo,deg)  \n"
   ]
  },
  {
   "cell_type": "code",
   "execution_count": null,
   "id": "stock-extension",
   "metadata": {},
   "outputs": [],
   "source": [
    "candidatossic"
   ]
  },
  {
   "cell_type": "code",
   "execution_count": null,
   "id": "charming-disclosure",
   "metadata": {},
   "outputs": [],
   "source": [
    "# cubicvtd3.list posible SIC hecho completo"
   ]
  },
  {
   "cell_type": "code",
   "execution_count": null,
   "id": "blond-equilibrium",
   "metadata": {},
   "outputs": [],
   "source": [
    "i=0\n",
    "with open('cubicvtd3x.list','r') as read_obj:\n",
    "    ops = csv.reader(read_obj,delimiter=',')\n",
    "    print(ops)\n",
    "    # Check file as empty\n",
    "    if ops != None:\n",
    "    # Iterate over each row after the header in the csv\n",
    "        for row in ops:\n",
    "        # row variable is a list that represents a row in csv\n",
    "            lin=[]\n",
    "            for s in row:\n",
    "                n=eval(s)\n",
    "                lin=lin+[n]\n",
    "            #print(lin)\n",
    "            deg=[]\n",
    "            for n in range(0,len(lin),2):\n",
    "                deg=deg + [[lin[n],lin[n+1]]]\n",
    "            #print(deg)\n",
    "            g = Graph(deg,format='list_of_edges')\n",
    "            #g.show()\n",
    "    \n",
    "            i=i+1\n",
    "            if i.mod(2) ==0 :\n",
    "                print(i, vertices) \n",
    "            vertices=len(g.vertices())\n",
    "                        \n",
    "            omega = g.clique_number()\n",
    "            alpha = g.complement().clique_number()\n",
    "                \n",
    "            if 3*alpha*omega <= vertices:\n",
    "                print('COTA POSIBLE DE ETA')\n",
    "                print(vertices,alpha,omega,2*alpha/(alpha+(vertices/omega)),deg)\n",
    "                candidatos=candidatos + [[g,vertices,alpha,omega,2*alpha/(alpha+(vertices/omega)),deg]]\n",
    "                    \n"
   ]
  },
  {
   "cell_type": "code",
   "execution_count": null,
   "id": "exciting-holly",
   "metadata": {},
   "outputs": [],
   "source": [
    "print(candidatos,i)"
   ]
  },
  {
   "cell_type": "code",
   "execution_count": null,
   "id": "miniature-branch",
   "metadata": {},
   "outputs": [],
   "source": [
    "i=0\n",
    "with open('AT4.txt','r') as read_obj:\n",
    "    ops = csv.reader(read_obj,delimiter=',')\n",
    "    print(ops)\n",
    "    # Check file as empty\n",
    "    if ops != None:\n",
    "    # Iterate over each row after the header in the csv\n",
    "        for row in ops:\n",
    "        # row variable is a list that represents a row in csv\n",
    "            lin=[]\n",
    "            for s in row:\n",
    "                n=eval(s)\n",
    "                lin=lin+[n]\n",
    "            #print(lin)\n",
    "            deg=[]\n",
    "            for n in range(0,len(lin),2):\n",
    "                deg=deg + [[lin[n],lin[n+1]]]\n",
    "            #print(deg)\n",
    "            g = Graph(deg,format='list_of_edges')\n",
    "            #g.show()\n",
    "    \n",
    "            i=i+1\n",
    "            if i.mod(200) ==0 :\n",
    "                print(i) \n",
    "            vertices=len(g.vertices())\n",
    "                        \n",
    "            omega = g.clique_number()\n",
    "            alpha = g.complement().clique_number()\n",
    "                \n",
    "            if 3*alpha*omega <= vertices:\n",
    "                print('COTA POSIBLE DE ETA')\n",
    "                print(vertices,alpha,omega,2*alpha/(alpha+(vertices/omega)),deg)\n",
    "                candidatos=candidatos + [[g,vertices,alpha,omega,2*alpha/(alpha+(vertices/omega)),deg]]\n",
    "                    \n"
   ]
  },
  {
   "cell_type": "code",
   "execution_count": null,
   "id": "front-thickness",
   "metadata": {},
   "outputs": [],
   "source": [
    "print(candidatos,i)"
   ]
  },
  {
   "cell_type": "code",
   "execution_count": null,
   "id": "revised-botswana",
   "metadata": {},
   "outputs": [],
   "source": []
  },
  {
   "cell_type": "code",
   "execution_count": null,
   "id": "sharp-wrestling",
   "metadata": {},
   "outputs": [],
   "source": [
    "candidatos"
   ]
  },
  {
   "cell_type": "code",
   "execution_count": null,
   "id": "sustained-movement",
   "metadata": {},
   "outputs": [],
   "source": []
  },
  {
   "cell_type": "code",
   "execution_count": null,
   "id": "historic-institution",
   "metadata": {},
   "outputs": [],
   "source": []
  },
  {
   "cell_type": "code",
   "execution_count": null,
   "id": "anonymous-nancy",
   "metadata": {},
   "outputs": [],
   "source": []
  },
  {
   "cell_type": "code",
   "execution_count": null,
   "id": "affiliated-criterion",
   "metadata": {},
   "outputs": [],
   "source": []
  },
  {
   "cell_type": "code",
   "execution_count": null,
   "id": "electric-carbon",
   "metadata": {},
   "outputs": [],
   "source": []
  },
  {
   "cell_type": "code",
   "execution_count": null,
   "id": "engaging-american",
   "metadata": {},
   "outputs": [],
   "source": []
  }
 ],
 "metadata": {
  "kernelspec": {
   "display_name": "SageMath 9.2",
   "language": "sage",
   "name": "sagemath"
  },
  "language_info": {
   "codemirror_mode": {
    "name": "ipython",
    "version": 3
   },
   "file_extension": ".py",
   "mimetype": "text/x-python",
   "name": "python",
   "nbconvert_exporter": "python",
   "pygments_lexer": "ipython3",
   "version": "3.9.7"
  }
 },
 "nbformat": 4,
 "nbformat_minor": 5
}
