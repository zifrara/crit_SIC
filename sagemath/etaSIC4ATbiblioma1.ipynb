{
 "cells": [
  {
   "cell_type": "code",
   "execution_count": null,
   "id": "breathing-graduate",
   "metadata": {},
   "outputs": [],
   "source": [
    "import csv\n",
    "from csv import reader\n",
    "\n",
    "C4=graphs.CycleGraph(4)\n",
    "Smo10=Graph([[0,1],[0,2],[0,3],[0,4],[1,2],[3,4],[5,9],[6,9],[7,9],[8,9],[5,6],[7,8],[1,5],[4,8],[2,7],[3,6]])\n",
    "\n",
    "candidatos=[]\n",
    "candidatossic=[]"
   ]
  },
  {
   "cell_type": "code",
   "execution_count": null,
   "id": "thrown-crystal",
   "metadata": {},
   "outputs": [],
   "source": [
    "i=0\n",
    "with open('AT4.txt','r') as read_obj:\n",
    "    ops = csv.reader(read_obj,delimiter=',')\n",
    "    print(ops)\n",
    "    # Check file as empty\n",
    "    if ops != None:\n",
    "    # Iterate over each row after the header in the csv\n",
    "        for row in ops:\n",
    "        # row variable is a list that represents a row in csv\n",
    "            lin=[]\n",
    "            for s in row:\n",
    "                n=eval(s)\n",
    "                lin=lin+[n]\n",
    "            #print(lin)\n",
    "            deg=[]\n",
    "            for n in range(0,len(lin),2):\n",
    "                deg=deg + [[lin[n],lin[n+1]]]\n",
    "            #print(deg)\n",
    "            g = Graph(deg,format='list_of_edges')\n",
    "            #g.show()\n",
    "    \n",
    "            i=i+1\n",
    "            if i.mod(200) ==0 :\n",
    "                print(i) \n",
    "            vertices=len(g.vertices())\n",
    "            \n",
    "            if g.subgraph_search(C4) == None:\n",
    "                if g.clique_number() <= 3:\n",
    "                    omega= g.clique_number()\n",
    "                    chromo= g.chromatic_number()\n",
    "                    if chromo > 3:\n",
    "                        if g.subgraph_search(Smo10) == None:\n",
    "                            candidatossic=candidatossic + [[g, vertices,omega,chromo,deg]] \n",
    "                            print('POSIBLE SIC')\n",
    "                            print(vertices,omega,chromo,deg)  \n"
   ]
  },
  {
   "cell_type": "code",
   "execution_count": null,
   "id": "prime-spanking",
   "metadata": {},
   "outputs": [],
   "source": [
    "candidatossic"
   ]
  },
  {
   "cell_type": "code",
   "execution_count": null,
   "id": "northern-eight",
   "metadata": {},
   "outputs": [],
   "source": [
    "# cubicvtd3.list posible SIC hecho completo"
   ]
  },
  {
   "cell_type": "code",
   "execution_count": null,
   "id": "equivalent-first",
   "metadata": {},
   "outputs": [],
   "source": [
    "i=0\n",
    "with open('cubicvtd3.list','r') as read_obj:\n",
    "    ops = csv.reader(read_obj,delimiter=',')\n",
    "    print(ops)\n",
    "    # Check file as empty\n",
    "    if ops != None:\n",
    "    # Iterate over each row after the header in the csv\n",
    "        for row in ops:\n",
    "        # row variable is a list that represents a row in csv\n",
    "            lin=[]\n",
    "            for s in row:\n",
    "                n=eval(s)\n",
    "                lin=lin+[n]\n",
    "            #print(lin)\n",
    "            deg=[]\n",
    "            for n in range(0,len(lin),2):\n",
    "                deg=deg + [[lin[n],lin[n+1]]]\n",
    "            #print(deg)\n",
    "            g = Graph(deg,format='list_of_edges')\n",
    "            #g.show()\n",
    "    \n",
    "            i=i+1\n",
    "            if i.mod(200) ==0 :\n",
    "                print(i) \n",
    "            vertices=len(g.vertices())\n",
    "                        \n",
    "            omega = g.clique_number()\n",
    "            alpha = g.complement().clique_number()\n",
    "                \n",
    "            if 3*alpha*omega <= vertices:\n",
    "                print('COTA POSIBLE DE ETA')\n",
    "                print(vertices,alpha,omega,2*alpha/(alpha+(vertices/omega)),deg)\n",
    "                candidatos=candidatos + [[g,vertices,alpha,omega,2*alpha/(alpha+(vertices/omega)),deg]]\n",
    "                    \n"
   ]
  },
  {
   "cell_type": "code",
   "execution_count": null,
   "id": "distant-mapping",
   "metadata": {},
   "outputs": [],
   "source": [
    "print(candidatos,i)"
   ]
  },
  {
   "cell_type": "code",
   "execution_count": null,
   "id": "permanent-kenya",
   "metadata": {},
   "outputs": [],
   "source": [
    "i=0\n",
    "with open('AT4.txt','r') as read_obj:\n",
    "    ops = csv.reader(read_obj,delimiter=',')\n",
    "    print(ops)\n",
    "    # Check file as empty\n",
    "    if ops != None:\n",
    "    # Iterate over each row after the header in the csv\n",
    "        for row in ops:\n",
    "        # row variable is a list that represents a row in csv\n",
    "            lin=[]\n",
    "            for s in row:\n",
    "                n=eval(s)\n",
    "                lin=lin+[n]\n",
    "            #print(lin)\n",
    "            deg=[]\n",
    "            for n in range(0,len(lin),2):\n",
    "                deg=deg + [[lin[n],lin[n+1]]]\n",
    "            #print(deg)\n",
    "            g = Graph(deg,format='list_of_edges')\n",
    "            #g.show()\n",
    "    \n",
    "            i=i+1\n",
    "            if i.mod(200) ==0 :\n",
    "                print(i) \n",
    "            vertices=len(g.vertices())\n",
    "                        \n",
    "            omega = g.clique_number()\n",
    "            alpha = g.complement().clique_number()\n",
    "                \n",
    "            if 3*alpha*omega <= vertices:\n",
    "                print('COTA POSIBLE DE ETA')\n",
    "                print(vertices,alpha,omega,2*alpha/(alpha+(vertices/omega)),deg)\n",
    "                candidatos=candidatos + [[g,vertices,alpha,omega,2*alpha/(alpha+(vertices/omega)),deg]]\n",
    "                    \n"
   ]
  },
  {
   "cell_type": "code",
   "execution_count": null,
   "id": "planned-champagne",
   "metadata": {},
   "outputs": [],
   "source": [
    "print(candidatos,i)"
   ]
  },
  {
   "cell_type": "code",
   "execution_count": null,
   "id": "adverse-steering",
   "metadata": {},
   "outputs": [],
   "source": []
  },
  {
   "cell_type": "code",
   "execution_count": null,
   "id": "about-jurisdiction",
   "metadata": {},
   "outputs": [],
   "source": [
    "candidatos"
   ]
  },
  {
   "cell_type": "code",
   "execution_count": null,
   "id": "athletic-conclusion",
   "metadata": {},
   "outputs": [],
   "source": []
  },
  {
   "cell_type": "code",
   "execution_count": null,
   "id": "chubby-laundry",
   "metadata": {},
   "outputs": [],
   "source": []
  },
  {
   "cell_type": "code",
   "execution_count": null,
   "id": "running-swing",
   "metadata": {},
   "outputs": [],
   "source": []
  },
  {
   "cell_type": "code",
   "execution_count": null,
   "id": "tutorial-nicaragua",
   "metadata": {},
   "outputs": [],
   "source": []
  },
  {
   "cell_type": "code",
   "execution_count": null,
   "id": "adult-actor",
   "metadata": {},
   "outputs": [],
   "source": []
  },
  {
   "cell_type": "code",
   "execution_count": null,
   "id": "modular-looking",
   "metadata": {},
   "outputs": [],
   "source": []
  }
 ],
 "metadata": {
  "kernelspec": {
   "display_name": "SageMath 9.5",
   "language": "sage",
   "name": "sagemath-9.5"
  },
  "language_info": {
   "codemirror_mode": {
    "name": "ipython",
    "version": 3
   },
   "file_extension": ".py",
   "mimetype": "text/x-python",
   "name": "python",
   "nbconvert_exporter": "python",
   "pygments_lexer": "ipython3",
   "version": "3.9.9"
  }
 },
 "nbformat": 4,
 "nbformat_minor": 5
}
