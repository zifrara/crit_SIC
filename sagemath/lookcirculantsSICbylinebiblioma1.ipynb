{
 "cells": [
  {
   "cell_type": "code",
   "execution_count": 1,
   "id": "breathing-graduate",
   "metadata": {},
   "outputs": [],
   "source": [
    "import csv\n",
    "from csv import reader\n",
    "\n",
    "C4=graphs.CycleGraph(4)\n",
    "\n",
    "candidatos=[]"
   ]
  },
  {
   "cell_type": "code",
   "execution_count": 2,
   "id": "thrown-crystal",
   "metadata": {},
   "outputs": [
    {
     "name": "stdout",
     "output_type": "stream",
     "text": [
      "VERT= 60\n",
      "20\n"
     ]
    },
    {
     "ename": "FileNotFoundError",
     "evalue": "[Errno 2] No such file or directory: '60/circ60.20.txt'",
     "output_type": "error",
     "traceback": [
      "\u001b[0;31m---------------------------------------------------------------------------\u001b[0m",
      "\u001b[0;31mFileNotFoundError\u001b[0m                         Traceback (most recent call last)",
      "\u001b[0;32m/var/folders/fy/t_1w8r6d1mn9tr0m6cp8w1zw0000gp/T/ipykernel_4963/4025809234.py\u001b[0m in \u001b[0;36m<module>\u001b[0;34m\u001b[0m\n\u001b[1;32m     15\u001b[0m         \u001b[0mprint\u001b[0m\u001b[0;34m(\u001b[0m\u001b[0mdegree\u001b[0m\u001b[0;34m)\u001b[0m\u001b[0;34m\u001b[0m\u001b[0;34m\u001b[0m\u001b[0m\n\u001b[1;32m     16\u001b[0m \u001b[0;34m\u001b[0m\u001b[0m\n\u001b[0;32m---> 17\u001b[0;31m         \u001b[0;32mwith\u001b[0m \u001b[0mopen\u001b[0m\u001b[0;34m(\u001b[0m\u001b[0mstr\u001b[0m\u001b[0;34m(\u001b[0m\u001b[0mvertices\u001b[0m\u001b[0;34m)\u001b[0m\u001b[0;34m+\u001b[0m\u001b[0;34m'/circ'\u001b[0m\u001b[0;34m+\u001b[0m\u001b[0mstr\u001b[0m\u001b[0;34m(\u001b[0m\u001b[0mvertices\u001b[0m\u001b[0;34m)\u001b[0m\u001b[0;34m+\u001b[0m\u001b[0;34m'.'\u001b[0m\u001b[0;34m+\u001b[0m\u001b[0mstr\u001b[0m\u001b[0;34m(\u001b[0m\u001b[0mdegree\u001b[0m\u001b[0;34m)\u001b[0m\u001b[0;34m+\u001b[0m\u001b[0;34m'.txt'\u001b[0m\u001b[0;34m,\u001b[0m\u001b[0;34m'r'\u001b[0m\u001b[0;34m)\u001b[0m \u001b[0;32mas\u001b[0m \u001b[0mread_obj\u001b[0m\u001b[0;34m:\u001b[0m\u001b[0;34m\u001b[0m\u001b[0;34m\u001b[0m\u001b[0m\n\u001b[0m\u001b[1;32m     18\u001b[0m             \u001b[0mcsv_reader\u001b[0m \u001b[0;34m=\u001b[0m \u001b[0mreader\u001b[0m\u001b[0;34m(\u001b[0m\u001b[0mread_obj\u001b[0m\u001b[0;34m,\u001b[0m\u001b[0mdelimiter\u001b[0m\u001b[0;34m=\u001b[0m\u001b[0;34m' '\u001b[0m\u001b[0;34m)\u001b[0m\u001b[0;34m\u001b[0m\u001b[0;34m\u001b[0m\u001b[0m\n\u001b[1;32m     19\u001b[0m             \u001b[0mheader\u001b[0m \u001b[0;34m=\u001b[0m \u001b[0mnext\u001b[0m\u001b[0;34m(\u001b[0m\u001b[0mcsv_reader\u001b[0m\u001b[0;34m)\u001b[0m\u001b[0;34m\u001b[0m\u001b[0;34m\u001b[0m\u001b[0m\n",
      "\u001b[0;31mFileNotFoundError\u001b[0m: [Errno 2] No such file or directory: '60/circ60.20.txt'"
     ]
    }
   ],
   "source": [
    "#IMPARES\n",
    "# 60\n",
    "\n",
    "from csv import reader\n",
    "for vertices in range(60,61,2):\n",
    "    print(\"VERT=\",vertices)\n",
    "    for degree in range(20, int(vertices / 2)-1,2):     \n",
    "        # All degrees (up to complement) are present up to 60 vertices, \n",
    "        # then degrees at most 20 up to 65 vertices, \n",
    "        # at most 16 up to 70 vertices \n",
    "        # and at most 12 up to 100 vertices.\n",
    "        \n",
    "        #data=list(csv.reader(open(str(vertices)+'/circ'+str(vertices)+'.'+str(degree)+'.txt','r'),delimiter=' '))\n",
    "        \n",
    "        print(degree)\n",
    "        \n",
    "        with open(str(vertices)+'/circ'+str(vertices)+'.'+str(degree)+'.txt','r') as read_obj:\n",
    "            csv_reader = reader(read_obj,delimiter=' ')\n",
    "            header = next(csv_reader)\n",
    "            # Check file as empty\n",
    "            if header != None:\n",
    "            # Iterate over each row after the header in the csv\n",
    "                for row in csv_reader:\n",
    "                # row variable is a list that represents a row in csv\n",
    "                    lin=[]\n",
    "                    for s in row:\n",
    "                        n=eval(s)\n",
    "                        lin=lin+[n]\n",
    "                    g = graphs.CirculantGraph(vertices,lin)\n",
    "        \n",
    "                    if g.subgraph_search(C4) == None:\n",
    "                        if g.clique_number() <= 3:\n",
    "                            if g.chromatic_number() > 3:\n",
    "                                candidatos2=candidatos2 + [[g.graph6_string(), g.clique_number() ,g.chromatic_number(),vertices,degree,lin]] \n",
    "                                print([[g.clique_number() , g.chromatic_number(), vertices,degree,lin]])\n",
    "                            \n",
    "    print(vertices)  \n",
    "\n",
    "print(candidatos)\n",
    "    \n",
    "    \n"
   ]
  },
  {
   "cell_type": "code",
   "execution_count": null,
   "id": "political-accent",
   "metadata": {},
   "outputs": [],
   "source": []
  }
 ],
 "metadata": {
  "kernelspec": {
   "display_name": "SageMath 9.5",
   "language": "sage",
   "name": "sagemath-9.5"
  },
  "language_info": {
   "codemirror_mode": {
    "name": "ipython",
    "version": 3
   },
   "file_extension": ".py",
   "mimetype": "text/x-python",
   "name": "python",
   "nbconvert_exporter": "python",
   "pygments_lexer": "ipython3",
   "version": "3.9.9"
  }
 },
 "nbformat": 4,
 "nbformat_minor": 5
}
