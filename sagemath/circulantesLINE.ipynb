{
 "cells": [
  {
   "cell_type": "code",
   "execution_count": null,
   "id": "breathing-graduate",
   "metadata": {},
   "outputs": [],
   "source": [
    "import csv\n",
    "from csv import reader\n",
    "\n",
    "candidatos=[]"
   ]
  },
  {
   "cell_type": "code",
   "execution_count": null,
   "id": "thrown-crystal",
   "metadata": {},
   "outputs": [],
   "source": [
    "#IMPARES\n",
    "# 60\n",
    "\n",
    "candidatos=[]\n",
    "\n",
    "for vertices in range(60,61,2):\n",
    "    print(\"VERT=\",vertices)\n",
    "    for degree in range(20, int(vertices / 2)-1,2):     \n",
    "        # All degrees (up to complement) are present up to 60 vertices, \n",
    "        # then degrees at most 20 up to 65 vertices, \n",
    "        # at most 16 up to 70 vertices \n",
    "        # and at most 12 up to 100 vertices.\n",
    "        \n",
    "        #data=list(csv.reader(open(str(vertices)+'/circ'+str(vertices)+'.'+str(degree)+'.txt','r'),delimiter=' '))\n",
    "        \n",
    "        with open(str(vertices)+'/circ'+str(vertices)+'.'+str(degree)+'.txt','r') as read_obj:\n",
    "            csv_reader = reader(read_obj,delimiter=' ')\n",
    "            header = next(csv_reader)\n",
    "            # Check file as empty\n",
    "            if header != None:\n",
    "            # Iterate over each row after the header in the csv\n",
    "                for row in csv_reader:\n",
    "                # row variable is a list that represents a row in csv\n",
    "                    lin=[]\n",
    "                    for s in row:\n",
    "                        n=eval(s)\n",
    "                        lin=lin+[n]\n",
    "                    g = graphs.CirculantGraph(vertices,lin)\n",
    "                    if 3*len(g.independent_set())*g.clique_number() <= vertices:\n",
    "                        print('EUREKA')\n",
    "                        print([vertices,degree,lin,len(g.independent_set()),g.clique_number(),2*len(g.independent_set())/(len(g.independent_set())+(vertices/g.clique_number()))])\n",
    "                        candidatos=candidatos + [[vertices,degree,lin]] \n",
    "                        \n",
    "        print(degree)\n",
    "\n",
    "    print(vertices)  \n",
    "\n",
    "print(candidatos)\n",
    "    \n",
    "    \n"
   ]
  },
  {
   "cell_type": "code",
   "execution_count": null,
   "id": "political-accent",
   "metadata": {},
   "outputs": [],
   "source": []
  }
 ],
 "metadata": {
  "kernelspec": {
   "display_name": "SageMath 9.2",
   "language": "sage",
   "name": "sagemath"
  },
  "language_info": {
   "codemirror_mode": {
    "name": "ipython",
    "version": 3
   },
   "file_extension": ".py",
   "mimetype": "text/x-python",
   "name": "python",
   "nbconvert_exporter": "python",
   "pygments_lexer": "ipython3",
   "version": "3.9.7"
  }
 },
 "nbformat": 4,
 "nbformat_minor": 5
}
