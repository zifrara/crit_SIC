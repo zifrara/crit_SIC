{
 "cells": [
  {
   "cell_type": "code",
   "execution_count": 8,
   "id": "vocational-transfer",
   "metadata": {},
   "outputs": [
    {
     "data": {
      "text/plain": [
       "'~?@@????A?O@?A?A?@?OOAA?gG@OODOOAgGAiA?TOO@T@?AiA?AiA?`T@?GTOO@AiA?cIgG@GTOODGTOOEcIgGBhAiA?|GTOOFs`T@?^hAiA?^hAiA?ns`T@?J|GTOO@^hAiA?d}cIgG@J|GTOO@J|GTOO?d}cIgG?H^hAiA?`J|GTOOACns`T@?SH^hAiA?SH^hAiA?iCns`T@?I`J|GTOODSH^hAiA?TOd}cIgG?i`J|GTOO?i`J|GTOO?TOd}cIgG?DSH^hAiA?_i`J|GTOOAAiCns`T@?CDSH^hAiA?CDSH^hAiA?AAiCns`T@??_i`J|GTOO?CDSH^hAiA??OTOd}cIgG?'"
      ]
     },
     "execution_count": 8,
     "metadata": {},
     "output_type": "execute_result"
    }
   ],
   "source": [
    "\n",
    "G=graphs.CirculantGraph(65,[8, 14, 16, 18, 20, 25, 28, 30, 31, 32])\n",
    "G.graph6_string()\n"
   ]
  },
  {
   "cell_type": "code",
   "execution_count": 2,
   "id": "helpful-banks",
   "metadata": {},
   "outputs": [
    {
     "data": {
      "text/plain": [
       "[]"
      ]
     },
     "execution_count": 2,
     "metadata": {},
     "output_type": "execute_result"
    }
   ],
   "source": [
    "\n"
   ]
  },
  {
   "cell_type": "code",
   "execution_count": 5,
   "id": "protected-floor",
   "metadata": {},
   "outputs": [
    {
     "ename": "ModuleNotFoundError",
     "evalue": "No module named 'csdp'",
     "output_type": "error",
     "traceback": [
      "\u001b[0;31m---------------------------------------------------------------------------\u001b[0m",
      "\u001b[0;31mModuleNotFoundError\u001b[0m                       Traceback (most recent call last)",
      "\u001b[0;32m<ipython-input-5-fa561521bf6c>\u001b[0m in \u001b[0;36m<module>\u001b[0;34m\u001b[0m\n\u001b[0;32m----> 1\u001b[0;31m \u001b[0;32mimport\u001b[0m \u001b[0mcsdp\u001b[0m\u001b[0;34m\u001b[0m\u001b[0;34m\u001b[0m\u001b[0m\n\u001b[0m",
      "\u001b[0;31mModuleNotFoundError\u001b[0m: No module named 'csdp'"
     ]
    }
   ],
   "source": [
    "\n"
   ]
  },
  {
   "cell_type": "code",
   "execution_count": null,
   "id": "imposed-flood",
   "metadata": {},
   "outputs": [],
   "source": []
  }
 ],
 "metadata": {
  "kernelspec": {
   "display_name": "SageMath 9.2",
   "language": "sage",
   "name": "sagemath"
  },
  "language_info": {
   "codemirror_mode": {
    "name": "ipython",
    "version": 3
   },
   "file_extension": ".py",
   "mimetype": "text/x-python",
   "name": "python",
   "nbconvert_exporter": "python",
   "pygments_lexer": "ipython3",
   "version": "3.9.7"
  }
 },
 "nbformat": 4,
 "nbformat_minor": 5
}
