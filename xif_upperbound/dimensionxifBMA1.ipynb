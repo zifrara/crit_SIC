{
 "cells": [
  {
   "cell_type": "code",
   "execution_count": 1,
   "id": "8dc2c557",
   "metadata": {},
   "outputs": [],
   "source": [
    "from scipy.linalg import eigh, eigvalsh\n",
    "from scipy.sparse import coo_matrix\n",
    "import numpy as np\n",
    "import networkx,math,sys\n",
    "import time\n",
    "from scipy.stats import unitary_group, ortho_group\n",
    "np.set_printoptions(precision=4)\n",
    "np.set_printoptions(suppress=True)\n",
    "\n",
    "def psdrF(mat,r,d=None):\n",
    "    if d is None:\n",
    "        d = len(mat)\n",
    "    vas,ves = eigh(mat)\n",
    "    vas[vas<0]=0\n",
    "    pvas=np.diag(vas*np.array([0]*(d-r)+[1]*r))\n",
    "    ves = np.matrix(ves)\n",
    "    return np.matmul(np.matmul(ves,pvas),ves.H)\n",
    "\n",
    "def normF(mat,adj,d=None):\n",
    "    if d is None:\n",
    "        d = len(mat)\n",
    "    return np.multiply(mat,adj) + 1*np.identity(d)\n",
    "\n",
    "def ranH(d):\n",
    "    Mr = np.random.rand(d,d)\n",
    "    Mi = np.random.rand(d,d)\n",
    "    M = (Mr+Mr.T)/2 + 1j*(Mi-Mi.T)/2\n",
    "    return np.matrix(M)\n",
    "\n",
    "def dimQ(ghf,r,t): # k is the rank of the projectors; r is the rank of the matrix, i.e., the dimension of the vectors; t is the number of steps in the see-saw method in each monitored period\n",
    "    if isinstance(ghf,str):gh = networkx.from_graph6_bytes(ghf.encode())\n",
    "    elif isinstance(ghf,list) or isinstance(ghf,np.matrix):gh = networkx.Graph(ghf)\n",
    "    else:return('Accepted types:str of graph6 format,list of edges, np.matrix of adjacency matrix')\n",
    "    d = len(gh)\n",
    "    adjc = 1-np.matrix(networkx.adjacency_matrix(gh).A)-np.identity(d)\n",
    "    iterM = ranH(d)\n",
    "    tmp0 = d\n",
    "    tmp1 = 2*d\n",
    "    start0 = time.time()\n",
    "    start = start0\n",
    "    while abs(tmp1-tmp0)>1e-9 and start-start0<30:\n",
    "        newtime = time.time()\n",
    "        if newtime-start>3:\n",
    "            iterM = iterM + ranH(d)/100\n",
    "            start = newtime\n",
    "        for i in range(t): # t is the number of steps in the see-saw method in each monitored period\n",
    "            iterM = psdrF(iterM,r,d)\n",
    "            iterM = normF(iterM,adjc,d)\n",
    "        vas = eigvalsh(iterM,eigvals=(0,d-r-1))\n",
    "        tmp0 = tmp1\n",
    "        tmp1 = sum(abs(vas))\n",
    "    #return [abs(tmp1-tmp0)<1e-9,tmp1<1e-9]\n",
    "    if tmp1<1e-9:\n",
    "        return 'True'\n",
    "    else:\n",
    "        return 'Undetermied'\n",
    "\n",
    "def dimQM(ghf,r,lt): # lt is the number of rounds\n",
    "    res = []\n",
    "    for i in range(lt):\n",
    "        tmp = dimQ(ghf,r,20)\n",
    "        if tmp[0]:res.append(tmp[1])\n",
    "        if tmp[1]<1e-6:return [len(res),tmp]\n",
    "        if len(res)>=5:return [len(res),min(res)]\n",
    "    return [len(res),min(res+[1000])]\n",
    "\n"
   ]
  },
  {
   "cell_type": "code",
   "execution_count": 2,
   "id": "0855b0bd",
   "metadata": {},
   "outputs": [
    {
     "name": "stdout",
     "output_type": "stream",
     "text": [
      "True\n"
     ]
    }
   ],
   "source": [
    "from newdim import *\n",
    "\n",
    "gh = [[0,1],[1,2],[2,3],[3,4],[0,4]] #edge format\n",
    "gh = 'Dhc' #graph6 format\n",
    "res = dimQ(gh,3,10) # graph, orthogonal rank to check, length of iteration in each small step (the larger the more accurate, then more time)\n",
    "# The result 'Ture' means that we have a orthogonal representation with such a rank, 'Undetermined' means that it cannot be decided by this routine. We can always increase the targeted orthogonal rank to obtain the result 'True'.\n",
    "print(res)"
   ]
  },
  {
   "cell_type": "code",
   "execution_count": 3,
   "id": "86af71f8",
   "metadata": {},
   "outputs": [],
   "source": [
    "import csv\n",
    "from csv import reader\n",
    "from time import time"
   ]
  },
  {
   "cell_type": "code",
   "execution_count": null,
   "id": "958de221",
   "metadata": {},
   "outputs": [],
   "source": []
  },
  {
   "cell_type": "code",
   "execution_count": 6,
   "id": "126f6ade",
   "metadata": {},
   "outputs": [
    {
     "name": "stdout",
     "output_type": "stream",
     "text": [
      "5   ['R}hPOSS????@?C?B_AwEO@K??qGAW_', 6, 6.23943886, 6.33333333]   60/49   5\n",
      "9   ['R}ecZ@OH?o`W@gOWcI_`p?hkHL?GuG', 4, 5.24042975, 6.33333333]   48/43   6\n",
      "15   ['R~zLaWqCgY?U@Q??_?g@j?Qw?Jg?jg', 4, 4.58729963, 4.75]   48/43   6\n",
      "23   ['R}nDCA?Vh}H\\\\L[BwA{AXDKpT?jhAjg', 5, 5.67191319, 6.33333333]   40/39   4\n",
      "33   ['R}j\\\\}QpqLaLn[}R[E\\\\IwdMbSEzwMzo', 4, 4.2679217, 4.75]   40/39   5\n",
      "38   ['R}n~uUssLQLx\\\\kA}AnIHtGvSGnwanw', 4, 4.2679217, 4.75]   40/39   5\n",
      "39   ['R~yKmu{odGlu\\\\qEmbjihpIuTBnXJlo', 4, 4.39834714, 4.75]   40/39   5\n",
      "46   ['R}nLnVsqli~O~?V~f~q^{L~dJ}hj}g', 4, 4.14187028, 4.75]   40/39   5\n",
      "19 \t 1 \t 58\n"
     ]
    },
    {
     "ename": "SyntaxError",
     "evalue": "unexpected EOF while parsing (<string>, line 0)",
     "output_type": "error",
     "traceback": [
      "Traceback \u001b[0;36m(most recent call last)\u001b[0m:\n",
      "  File \u001b[1;32m\"/private/var/tmp/sage-9.5-current/local/var/lib/sage/venv-python3.9.9/lib/python3.9/site-packages/IPython/core/interactiveshell.py\"\u001b[0m, line \u001b[1;32m3444\u001b[0m, in \u001b[1;35mrun_code\u001b[0m\n    exec(code_obj, self.user_global_ns, self.user_ns)\n",
      "\u001b[0;36m  File \u001b[0;32m\"/var/folders/fy/t_1w8r6d1mn9tr0m6cp8w1zw0000gp/T/ipykernel_6706/1908613749.py\"\u001b[0;36m, line \u001b[0;32m18\u001b[0;36m, in \u001b[0;35m<module>\u001b[0;36m\u001b[0m\n\u001b[0;31m    n=eval(s)\u001b[0m\n",
      "\u001b[0;36m  File \u001b[0;32m\"<string>\"\u001b[0;36m, line \u001b[0;32munknown\u001b[0m\n\u001b[0;31m    \u001b[0m\n\u001b[0m    ^\u001b[0m\n\u001b[0;31mSyntaxError\u001b[0m\u001b[0;31m:\u001b[0m unexpected EOF while parsing\n"
     ]
    }
   ],
   "source": [
    "t0=time()\n",
    "mini=1000\n",
    "\n",
    "for vertices in range(19,31):\n",
    "    mini=1000\n",
    "    with open('vtc'+str(vertices)+'t','r') as read_obj:\n",
    "        csv_reader = reader(read_obj,delimiter='\\t')\n",
    "        # header = next(csv_reader)\n",
    "        l=0\n",
    "        # Check file as empty\n",
    "        # if header != None:\n",
    "        # Iterate over each row after the header in the csv\n",
    "        for row in csv_reader: \n",
    "            # row variable is a list that represents a row in csv\n",
    "            l=l+1\n",
    "            lin=[row[0]]\n",
    "            for s in row[1:]:\n",
    "                n=eval(s)\n",
    "                lin=lin+[n]\n",
    "            # print(lin)\n",
    "            d=int(vertices/lin[3])\n",
    "            #print(d)\n",
    "            if d>2:\n",
    "                res = dimQ(row[0],d,10)\n",
    "                while res != 'True':\n",
    "                    d=d+1\n",
    "                    res = dimQ(row[0],d,10)\n",
    "                eta=2*lin[1]/(lin[1]+(vertices/d))\n",
    "                if eta <= mini:\n",
    "                    mini=min(mini,eta)\n",
    "                    print(l,' ',lin,' ',eta,' ',d)\n",
    "    if mini > 1:\n",
    "        mini=1\n",
    "    print(vertices,'\\t',mini,'\\t',l)\n",
    "                # row variable is a list that represents a row in csv\n",
    "\n",
    "t1=time()"
   ]
  },
  {
   "cell_type": "code",
   "execution_count": 7,
   "id": "7c766f43",
   "metadata": {},
   "outputs": [
    {
     "name": "stdout",
     "output_type": "stream",
     "text": [
      "20 \t 1000 \t \t 1\n"
     ]
    }
   ],
   "source": [
    "print(vertices,'\\t',mini,'\\t','\\t',l)"
   ]
  },
  {
   "cell_type": "code",
   "execution_count": 12,
   "id": "dd96abda",
   "metadata": {},
   "outputs": [
    {
     "name": "stdout",
     "output_type": "stream",
     "text": [
      "1   ['S}r\\\\|AxsTQMnF[YiBNJKeEilBLXG|gMf[', 4, 5, 5]   1   5\n",
      "2   ['S}y|ffGhMDH~MYNc?~bocDq{EtWbViOvk', 4, 4.47213595, 5]   1   5\n",
      "3   ['S}y|vbodeAF}K^Bu@vAFUPYgYXxWrq@N{', 4, 4.47213595, 5]   1   5\n",
      "9   ['S~jN]epjMwIlNLYsAbobfArX@lXDbw[T{', 4, 4.18753031, 5]   1   5\n",
      "10   ['S~nM^BPoE?e~L~B]@^J{BA^CHyXkbXkR[', 4, 4.47213595, 5]   1   5\n",
      "12   ['S~nmuitycSNZ\\\\WDY@VGFU@M|G[xIFwC~k', 4, 4.4620272, 5]   1   5\n",
      "14   ['S~u~UjdmcSNV\\\\WAe_xOhV?]{g\\\\gEziJB{', 4, 4.42920201, 5]   1   5\n",
      "17   ['S~zEDIaqD_B~F}F}HN`kxRYTJiPlbXmdW', 4, 4.47213595, 5]   1   5\n",
      "24   ['Ss~fFnofK{]OV~ZmDv?mx@vXwdzbJoR{{', 4, 5, 5]   1   5\n",
      "34   ['St~enfsjStX?XvTnDlgvkIng\\\\\\\\ZEZihls', 4, 4.07948002, 5]   1   5\n",
      "35   ['St~lkni{MixWVxZVErHPyPrKYuyBnpbT{', 4, 4.12022659, 5]   1   5\n",
      "42   ['Suz|KrYlVS]G[zX|b^buoQ{kE}owyxJZ[', 4, 4.28280096, 5]   1   5\n",
      "44   ['Svmud^MpV_|OR^E~lvBNgIfk[mpfbYiY{', 4, 4.30725123, 5]   1   5\n",
      "46   ['Svvv]YN{tBV@Zy\\\\lAVgZYLTKJ]z?~qpT{', 4, 4.15047756, 5]   1   5\n",
      "48   ['Svz~vbgw^BRo^}O^CN_Jz?~W]Tw{Zo{F{', 4, 4.47213595, 5]   1   5\n",
      "55   ['Sv~v^bhxFCrK^}@nGr_rZMXWF\\\\wK~orb{', 4, 4.42284066, 5]   1   5\n",
      "59   ['S|unmbSq^a\\\\_M}H~JuqNyF^?jKwh}XUF{', 4, 4.24376719, 5]   1   5\n",
      "65   ['S}mvMRxvem\\\\GZxTvBuOpyHrKH|xI^pdd{', 4, 4.1187997, 5]   1   5\n",
      "67   ['S}mv]zo{E@WAN~K~`~_^wRNXK|PuXxmXw', 4, 4.47213595, 5]   1   5\n",
      "69   ['S}n\\\\uEdqli^?R^K~Lujm[X}?I|Wi|WrF{', 4, 4.30284208, 5]   1   5\n",
      "82   ['S~zT|zducIpT\\\\]]lC|_uxPfTHmhOnwhV{', 4, 4.362695, 5]   1   5\n",
      "101   ['S~~~~~o{N`}FBoBo`wW]F?N{?~w@~w@~{', 2, 2.23606798, 2.5]   1   10\n",
      "114   ['SvzvVfk{nYRYfJ^}I]qZ\\\\Kvck}gmfw\\\\Z{', 4, 4.08231003, 5]   1   5\n",
      "125   ['S}q|vre{fWWwmGT~h~pv|N^o^}AM{xp~K', 4, 4.22291236, 5]   1   5\n",
      "145   ['S~z]EA~htMRZeu^~k~BNoUxlZepw|xw|w', 4, 5, 5]   1   5\n",
      "203   ['S~~~~~o{MXxfo~o~ff`xxK{{rrw]^w]^{', 2, 2.5, 2.5]   1   10\n",
      "204   ['S~~~~~{~Ne]XrKrK_^wF~Kr{rNwX~wX~{', 2, 2.23606798, 2.5]   1   10\n",
      "207   ['S|~^vj||vMrzrzmz~uA{|K~\\\\dzwznzT^{', 2, 2.66800219, 3.33333333]   1   10\n",
      "214   ['S~rNvnnv~x~f~o~ov`xf|K~[Nzw^nzw^{', 2, 2.5, 2.5]   1   10\n",
      "216   ['S~vn}z\\\\z^u]vz{{nVxOr~U^[e~xNnx}V{', 2, 2.5, 2.5]   1   10\n",
      "228   ['S~~v]~vjszuvq~~s^DrlZYt|XzwN~xw~{', 2, 2.62405614, 3.33333333]   1   10\n",
      "230   ['S~~~~ji~^vX|l{b\\\\q\\\\ytzNU|VVx\\\\^zB~{', 2, 2.4933791, 2.85714286]   1   10\n",
      "235   ['S}~~vnlzmvy~~{~rVflf|W~|[~x}nx~V{', 2, 2.5, 2.5]   1   10\n",
      "236   ['S~nd}z~~~{]z}yzyzznzkXz|\\\\^xt~w^~{', 2, 2.40991952, 2.85714286]   1   10\n",
      "237   ['S~rN~~~~~}^x~K~K~`~w^K~{r~w^~w^~{', 2, 2.23606798, 2.5]   1   10\n",
      "239   ['S~~~Mvv}v^z}xnu^vyt~R^Y|}VxV~wn~{', 2, 2.5, 2.5]   1   10\n",
      "240   ['S~~~dvVz~u~tz]||Z|t~eMv|k~yN~w~^{', 2, 2.4472136, 2.85714286]   1   10\n",
      "241   ['S~~~u}}u|z|t|t|Z|]~~oTv{m~yV~xj~{', 2, 2.23606798, 2.5]   1   10\n",
      "242   ['S~~~vny|^]||v]vlv]lntZr|[~xf~w^~{', 2, 2.5, 2.85714286]   1   10\n",
      "244   ['S~~~~rxx~Nzxvlk~tn~~oS~|L~x}^x|n{', 2, 2.23606798, 2.5]   1   10\n",
      "246   ['S~~~~~}~^l\\\\ivVnjXZ|f^R^{u~yf~xV~{', 2, 2.19098301, 2.5]   1   10\n",
      "247   ['S~qk~~~~~~~{~t~r~uv|Z~e|l~yv~xn~{', 2, 2.5, 2.5]   1   10\n",
      "249   ['S~z\\\\~~~~~{Zvzu|v~V~z]nzlN~zr~xn~{', 2, 2.34164079, 2.5]   1   10\n",
      "251   ['S~~~e~uzm}~^z^~{~|l~v~~`r~w~~x^~{', 2, 2.18828036, 2.5]   1   10\n",
      "20 \t 1 \t 252\n"
     ]
    },
    {
     "ename": "FileNotFoundError",
     "evalue": "[Errno 2] No such file or directory: 'vtc21t367plus'",
     "output_type": "error",
     "traceback": [
      "\u001b[0;31m---------------------------------------------------------------------------\u001b[0m",
      "\u001b[0;31mFileNotFoundError\u001b[0m                         Traceback (most recent call last)",
      "\u001b[0;32m/var/folders/fy/t_1w8r6d1mn9tr0m6cp8w1zw0000gp/T/ipykernel_6706/3877950269.py\u001b[0m in \u001b[0;36m<module>\u001b[0;34m\u001b[0m\n\u001b[1;32m      4\u001b[0m \u001b[0;32mfor\u001b[0m \u001b[0mvertices\u001b[0m \u001b[0;32min\u001b[0m \u001b[0mrange\u001b[0m\u001b[0;34m(\u001b[0m\u001b[0mInteger\u001b[0m\u001b[0;34m(\u001b[0m\u001b[0;36m20\u001b[0m\u001b[0;34m)\u001b[0m\u001b[0;34m,\u001b[0m\u001b[0mInteger\u001b[0m\u001b[0;34m(\u001b[0m\u001b[0;36m31\u001b[0m\u001b[0;34m)\u001b[0m\u001b[0;34m)\u001b[0m\u001b[0;34m:\u001b[0m\u001b[0;34m\u001b[0m\u001b[0;34m\u001b[0m\u001b[0m\n\u001b[1;32m      5\u001b[0m     \u001b[0mmini\u001b[0m\u001b[0;34m=\u001b[0m\u001b[0mInteger\u001b[0m\u001b[0;34m(\u001b[0m\u001b[0;36m1000\u001b[0m\u001b[0;34m)\u001b[0m\u001b[0;34m\u001b[0m\u001b[0;34m\u001b[0m\u001b[0m\n\u001b[0;32m----> 6\u001b[0;31m     \u001b[0;32mwith\u001b[0m \u001b[0mopen\u001b[0m\u001b[0;34m(\u001b[0m\u001b[0;34m'vtc'\u001b[0m\u001b[0;34m+\u001b[0m\u001b[0mstr\u001b[0m\u001b[0;34m(\u001b[0m\u001b[0mvertices\u001b[0m\u001b[0;34m)\u001b[0m\u001b[0;34m+\u001b[0m\u001b[0;34m't367plus'\u001b[0m\u001b[0;34m,\u001b[0m\u001b[0;34m'r'\u001b[0m\u001b[0;34m)\u001b[0m \u001b[0;32mas\u001b[0m \u001b[0mread_obj\u001b[0m\u001b[0;34m:\u001b[0m\u001b[0;34m\u001b[0m\u001b[0;34m\u001b[0m\u001b[0m\n\u001b[0m\u001b[1;32m      7\u001b[0m         \u001b[0mcsv_reader\u001b[0m \u001b[0;34m=\u001b[0m \u001b[0mreader\u001b[0m\u001b[0;34m(\u001b[0m\u001b[0mread_obj\u001b[0m\u001b[0;34m,\u001b[0m\u001b[0mdelimiter\u001b[0m\u001b[0;34m=\u001b[0m\u001b[0;34m'\\t'\u001b[0m\u001b[0;34m)\u001b[0m\u001b[0;34m\u001b[0m\u001b[0;34m\u001b[0m\u001b[0m\n\u001b[1;32m      8\u001b[0m         \u001b[0;31m# header = next(csv_reader)\u001b[0m\u001b[0;34m\u001b[0m\u001b[0;34m\u001b[0m\u001b[0m\n",
      "\u001b[0;31mFileNotFoundError\u001b[0m: [Errno 2] No such file or directory: 'vtc21t367plus'"
     ]
    }
   ],
   "source": [
    "t0=time()\n",
    "mini=1000\n",
    "\n",
    "for vertices in range(20,31):\n",
    "    mini=1000\n",
    "    with open('vtc'+str(vertices)+'t367plus','r') as read_obj:\n",
    "        csv_reader = reader(read_obj,delimiter='\\t')\n",
    "        # header = next(csv_reader)\n",
    "        l=0\n",
    "        # Check file as empty\n",
    "        # if header != None:\n",
    "        # Iterate over each row after the header in the csv\n",
    "        for row in csv_reader: \n",
    "            # row variable is a list that represents a row in csv\n",
    "            l=l+1\n",
    "            lin=[row[0]]\n",
    "            for s in row[1:]:\n",
    "                n=eval(s)\n",
    "                lin=lin+[n]\n",
    "            # print(lin)\n",
    "            d=int(vertices/lin[3])\n",
    "            #print(d)\n",
    "            if d>2:\n",
    "                res = dimQ(row[0],d,10)\n",
    "                while res != 'True':\n",
    "                    d=d+1\n",
    "                    res = dimQ(row[0],d,10)\n",
    "                eta=2*lin[1]/(lin[1]+(vertices/d))\n",
    "                if eta <= mini:\n",
    "                    mini=min(mini,eta)\n",
    "                    print(l,' ',lin,' ',eta,' ',d)\n",
    "    if mini > 1:\n",
    "        mini=1\n",
    "    print(vertices,'\\t',mini,'\\t',l)\n",
    "                # row variable is a list that represents a row in csv\n",
    "\n",
    "t1=time()"
   ]
  },
  {
   "cell_type": "code",
   "execution_count": 11,
   "id": "d4a899f9",
   "metadata": {},
   "outputs": [
    {
     "name": "stdout",
     "output_type": "stream",
     "text": [
      "368\n"
     ]
    }
   ],
   "source": [
    "print(l)\n"
   ]
  },
  {
   "cell_type": "code",
   "execution_count": 13,
   "id": "fb8af683",
   "metadata": {},
   "outputs": [
    {
     "name": "stdout",
     "output_type": "stream",
     "text": [
      "11   ['TuiCAStQ`g?rBCCaK?WH_?qD@@P@CWOJSOEs', 6, 7, 7]   32/23   8\n",
      "12   ['TujLbPpB?cGgGgATADOCS@D??Aw?Iw?pW?XR', 6, 6.32974879, 7]   32/23   8\n",
      "13   ['TunDAGaOpH@hCkS?D?GE`@IOGCo_EWBBo?]E', 6, 6.31046232, 7]   4/3   7\n",
      "15   ['T{fLb?WP@CAQBAOTCHOPSCL?ALOGdOB@S@`T', 6, 6.32974879, 7]   4/3   7\n",
      "16   ['T}iC?s[SHQgXHKA_A_AGFG`WCHGC`_AEK?cf', 6, 6.32974879, 7]   4/3   7\n",
      "17   ['T}iCA[vS`W@_C_Ogcg_OPCCO?Kg?eg?[s?U[', 6, 6.67280857, 7]   4/3   7\n",
      "18   ['T}iCAoxA_gg`GcB?AOACFH@WAhGI`_@lC@NC', 6, 6.32971318, 7]   4/3   7\n",
      "19   ['T}iCAoxB_k@OD?P?cOaCPHCS?m_Am?@dS@LS', 6, 6.32974879, 7]   4/3   7\n",
      "20   ['T}iCAoxP`K@PDCB?AOACTHDO?l_Af?@ES@Ct', 6, 6.32974879, 7]   4/3   7\n",
      "22   ['T}iCIoxP@G@OC`@K?hGDE?pH?SX?SwOy?OY`', 6, 6.32974879, 7]   4/3   7\n",
      "24   ['T~zLaWqCgY?U@Q????G?F?@[?sgAU_?Vc?Tk', 5, 5.15147471, 5.25]   20/17   6\n",
      "26   ['TunDCA@BglHTLKWqkiae_JQCLFOeLQPaSogt', 6, 6.29150262, 7]   16/15   4\n",
      "34   ['T}iCCA?Fw~HsLpQwEkAt@NOPAIhGii@dS`LT', 6, 6.54133625, 7]   16/15   4\n",
      "35   ['T}iCCA?Fw~HsRoLWe[a{?MWDCHiCbPA[k_uU', 6, 6.32974879, 7]   16/15   4\n",
      "38   ['T}iSKQBXQsGxQsLKFD@JHEgp?f`CUgahWKWZ', 6, 6.28150896, 7]   16/15   4\n",
      "43   ['T}jLeA_RpliWJGBiAyAB@GWSGegaMgO]sOU{', 6, 6.32974879, 7]   16/15   4\n",
      "44   ['T}jLeA_RxniWJGOqCe?X@CoSGegaMgONsOF{', 6, 6.32974879, 7]   16/15   4\n",
      "59   ['T~~~FFbF?wbb?w?w_[W?w?FC?[W?Fw?F{?B~', 3, 3.31766721, 3.5]   1   7\n",
      "103   ['T~~}DERa{NkWShQdgpxbKITSdKwpeohTkKXn', 3, 3.5, 3.5]   0.9230769230769231   6\n",
      "21 \t 0.9230769230769231 \t 166\n",
      "6   ['U}hPOSS????@?C???@g?e??s?DgEO?H_??q@?R?_', 7, 7.25131314, 7.33333333]   70/57   5\n",
      "18   ['U~rH`cKBGE?X?K?K_@_?X??o?BG?@_?@c??N??Bw', 5, 5.38630291, 5.5]   15/13   6\n"
     ]
    },
    {
     "ename": "LinAlgError",
     "evalue": "Internal Error.",
     "output_type": "error",
     "traceback": [
      "\u001b[0;31m---------------------------------------------------------------------------\u001b[0m",
      "\u001b[0;31mLinAlgError\u001b[0m                               Traceback (most recent call last)",
      "\u001b[0;32m/var/folders/fy/t_1w8r6d1mn9tr0m6cp8w1zw0000gp/T/ipykernel_6706/3614497989.py\u001b[0m in \u001b[0;36m<module>\u001b[0;34m\u001b[0m\n\u001b[1;32m     22\u001b[0m             \u001b[0;31m#print(d)\u001b[0m\u001b[0;34m\u001b[0m\u001b[0;34m\u001b[0m\u001b[0m\n\u001b[1;32m     23\u001b[0m             \u001b[0;32mif\u001b[0m \u001b[0md\u001b[0m\u001b[0;34m>\u001b[0m\u001b[0mInteger\u001b[0m\u001b[0;34m(\u001b[0m\u001b[0;36m2\u001b[0m\u001b[0;34m)\u001b[0m\u001b[0;34m:\u001b[0m\u001b[0;34m\u001b[0m\u001b[0;34m\u001b[0m\u001b[0m\n\u001b[0;32m---> 24\u001b[0;31m                 \u001b[0mres\u001b[0m \u001b[0;34m=\u001b[0m \u001b[0mdimQ\u001b[0m\u001b[0;34m(\u001b[0m\u001b[0mrow\u001b[0m\u001b[0;34m[\u001b[0m\u001b[0mInteger\u001b[0m\u001b[0;34m(\u001b[0m\u001b[0;36m0\u001b[0m\u001b[0;34m)\u001b[0m\u001b[0;34m]\u001b[0m\u001b[0;34m,\u001b[0m\u001b[0md\u001b[0m\u001b[0;34m,\u001b[0m\u001b[0mInteger\u001b[0m\u001b[0;34m(\u001b[0m\u001b[0;36m10\u001b[0m\u001b[0;34m)\u001b[0m\u001b[0;34m)\u001b[0m\u001b[0;34m\u001b[0m\u001b[0;34m\u001b[0m\u001b[0m\n\u001b[0m\u001b[1;32m     25\u001b[0m                 \u001b[0;32mwhile\u001b[0m \u001b[0mres\u001b[0m \u001b[0;34m!=\u001b[0m \u001b[0;34m'True'\u001b[0m\u001b[0;34m:\u001b[0m\u001b[0;34m\u001b[0m\u001b[0;34m\u001b[0m\u001b[0m\n\u001b[1;32m     26\u001b[0m                     \u001b[0md\u001b[0m\u001b[0;34m=\u001b[0m\u001b[0md\u001b[0m\u001b[0;34m+\u001b[0m\u001b[0mInteger\u001b[0m\u001b[0;34m(\u001b[0m\u001b[0;36m1\u001b[0m\u001b[0;34m)\u001b[0m\u001b[0;34m\u001b[0m\u001b[0;34m\u001b[0m\u001b[0m\n",
      "\u001b[0;32m~/ownCloud/clientsync/InvesEnCurso/eta/xibound/newdim.py\u001b[0m in \u001b[0;36mdimQ\u001b[0;34m(ghf, r, t)\u001b[0m\n\u001b[1;32m     45\u001b[0m             \u001b[0mstart\u001b[0m \u001b[0;34m=\u001b[0m \u001b[0mnewtime\u001b[0m\u001b[0;34m\u001b[0m\u001b[0;34m\u001b[0m\u001b[0m\n\u001b[1;32m     46\u001b[0m         \u001b[0;32mfor\u001b[0m \u001b[0mi\u001b[0m \u001b[0;32min\u001b[0m \u001b[0mrange\u001b[0m\u001b[0;34m(\u001b[0m\u001b[0mt\u001b[0m\u001b[0;34m)\u001b[0m\u001b[0;34m:\u001b[0m \u001b[0;31m# t is the number of steps in the see-saw method in each monitored period\u001b[0m\u001b[0;34m\u001b[0m\u001b[0;34m\u001b[0m\u001b[0m\n\u001b[0;32m---> 47\u001b[0;31m             \u001b[0miterM\u001b[0m \u001b[0;34m=\u001b[0m \u001b[0mpsdrF\u001b[0m\u001b[0;34m(\u001b[0m\u001b[0miterM\u001b[0m\u001b[0;34m,\u001b[0m\u001b[0mr\u001b[0m\u001b[0;34m,\u001b[0m\u001b[0md\u001b[0m\u001b[0;34m)\u001b[0m\u001b[0;34m\u001b[0m\u001b[0;34m\u001b[0m\u001b[0m\n\u001b[0m\u001b[1;32m     48\u001b[0m             \u001b[0miterM\u001b[0m \u001b[0;34m=\u001b[0m \u001b[0mnormF\u001b[0m\u001b[0;34m(\u001b[0m\u001b[0miterM\u001b[0m\u001b[0;34m,\u001b[0m\u001b[0madjc\u001b[0m\u001b[0;34m,\u001b[0m\u001b[0md\u001b[0m\u001b[0;34m)\u001b[0m\u001b[0;34m\u001b[0m\u001b[0;34m\u001b[0m\u001b[0m\n\u001b[1;32m     49\u001b[0m         \u001b[0mvas\u001b[0m \u001b[0;34m=\u001b[0m \u001b[0meigvalsh\u001b[0m\u001b[0;34m(\u001b[0m\u001b[0miterM\u001b[0m\u001b[0;34m,\u001b[0m\u001b[0meigvals\u001b[0m\u001b[0;34m=\u001b[0m\u001b[0;34m(\u001b[0m\u001b[0;36m0\u001b[0m\u001b[0;34m,\u001b[0m\u001b[0md\u001b[0m\u001b[0;34m-\u001b[0m\u001b[0mr\u001b[0m\u001b[0;34m-\u001b[0m\u001b[0;36m1\u001b[0m\u001b[0;34m)\u001b[0m\u001b[0;34m)\u001b[0m\u001b[0;34m\u001b[0m\u001b[0;34m\u001b[0m\u001b[0m\n",
      "\u001b[0;32m~/ownCloud/clientsync/InvesEnCurso/eta/xibound/newdim.py\u001b[0m in \u001b[0;36mpsdrF\u001b[0;34m(mat, r, d)\u001b[0m\n\u001b[1;32m     11\u001b[0m     \u001b[0;32mif\u001b[0m \u001b[0md\u001b[0m \u001b[0;32mis\u001b[0m \u001b[0;32mNone\u001b[0m\u001b[0;34m:\u001b[0m\u001b[0;34m\u001b[0m\u001b[0;34m\u001b[0m\u001b[0m\n\u001b[1;32m     12\u001b[0m         \u001b[0md\u001b[0m \u001b[0;34m=\u001b[0m \u001b[0mlen\u001b[0m\u001b[0;34m(\u001b[0m\u001b[0mmat\u001b[0m\u001b[0;34m)\u001b[0m\u001b[0;34m\u001b[0m\u001b[0;34m\u001b[0m\u001b[0m\n\u001b[0;32m---> 13\u001b[0;31m     \u001b[0mvas\u001b[0m\u001b[0;34m,\u001b[0m\u001b[0mves\u001b[0m \u001b[0;34m=\u001b[0m \u001b[0meigh\u001b[0m\u001b[0;34m(\u001b[0m\u001b[0mmat\u001b[0m\u001b[0;34m)\u001b[0m\u001b[0;34m\u001b[0m\u001b[0;34m\u001b[0m\u001b[0m\n\u001b[0m\u001b[1;32m     14\u001b[0m     \u001b[0mvas\u001b[0m\u001b[0;34m[\u001b[0m\u001b[0mvas\u001b[0m\u001b[0;34m<\u001b[0m\u001b[0;36m0\u001b[0m\u001b[0;34m]\u001b[0m\u001b[0;34m=\u001b[0m\u001b[0;36m0\u001b[0m\u001b[0;34m\u001b[0m\u001b[0;34m\u001b[0m\u001b[0m\n\u001b[1;32m     15\u001b[0m     \u001b[0mpvas\u001b[0m\u001b[0;34m=\u001b[0m\u001b[0mnp\u001b[0m\u001b[0;34m.\u001b[0m\u001b[0mdiag\u001b[0m\u001b[0;34m(\u001b[0m\u001b[0mvas\u001b[0m\u001b[0;34m*\u001b[0m\u001b[0mnp\u001b[0m\u001b[0;34m.\u001b[0m\u001b[0marray\u001b[0m\u001b[0;34m(\u001b[0m\u001b[0;34m[\u001b[0m\u001b[0;36m0\u001b[0m\u001b[0;34m]\u001b[0m\u001b[0;34m*\u001b[0m\u001b[0;34m(\u001b[0m\u001b[0md\u001b[0m\u001b[0;34m-\u001b[0m\u001b[0mr\u001b[0m\u001b[0;34m)\u001b[0m\u001b[0;34m+\u001b[0m\u001b[0;34m[\u001b[0m\u001b[0;36m1\u001b[0m\u001b[0;34m]\u001b[0m\u001b[0;34m*\u001b[0m\u001b[0mr\u001b[0m\u001b[0;34m)\u001b[0m\u001b[0;34m)\u001b[0m\u001b[0;34m\u001b[0m\u001b[0;34m\u001b[0m\u001b[0m\n",
      "\u001b[0;32m/private/var/tmp/sage-9.5-current/local/var/lib/sage/venv-python3.9.9/lib/python3.9/site-packages/scipy/linalg/decomp.py\u001b[0m in \u001b[0;36meigh\u001b[0;34m(a, b, lower, eigvals_only, overwrite_a, overwrite_b, turbo, eigvals, type, check_finite, subset_by_index, subset_by_value, driver)\u001b[0m\n\u001b[1;32m    602\u001b[0m                 \u001b[0mmsg\u001b[0m \u001b[0;34m=\u001b[0m \u001b[0mdrv_err\u001b[0m\u001b[0;34m[\u001b[0m\u001b[0;34m'evr'\u001b[0m\u001b[0;34m]\u001b[0m\u001b[0;34m\u001b[0m\u001b[0;34m\u001b[0m\u001b[0m\n\u001b[1;32m    603\u001b[0m \u001b[0;34m\u001b[0m\u001b[0m\n\u001b[0;32m--> 604\u001b[0;31m             \u001b[0;32mraise\u001b[0m \u001b[0mLinAlgError\u001b[0m\u001b[0;34m(\u001b[0m\u001b[0mmsg\u001b[0m\u001b[0;34m)\u001b[0m\u001b[0;34m\u001b[0m\u001b[0;34m\u001b[0m\u001b[0m\n\u001b[0m\u001b[1;32m    605\u001b[0m \u001b[0;34m\u001b[0m\u001b[0m\n\u001b[1;32m    606\u001b[0m \u001b[0;34m\u001b[0m\u001b[0m\n",
      "\u001b[0;31mLinAlgError\u001b[0m: Internal Error."
     ]
    }
   ],
   "source": [
    "t0=time()\n",
    "mini=1000\n",
    "\n",
    "for vertices in range(21,31):\n",
    "    mini=1000\n",
    "    with open('vtc'+str(vertices)+'t','r') as read_obj:\n",
    "        csv_reader = reader(read_obj,delimiter='\\t')\n",
    "        # header = next(csv_reader)\n",
    "        l=0\n",
    "        # Check file as empty\n",
    "        # if header != None:\n",
    "        # Iterate over each row after the header in the csv\n",
    "        for row in csv_reader: \n",
    "            # row variable is a list that represents a row in csv\n",
    "            l=l+1\n",
    "            lin=[row[0]]\n",
    "            for s in row[1:]:\n",
    "                n=eval(s)\n",
    "                lin=lin+[n]\n",
    "            # print(lin)\n",
    "            d=int(vertices/lin[3])\n",
    "            #print(d)\n",
    "            if d>2:\n",
    "                res = dimQ(row[0],d,10)\n",
    "                while res != 'True':\n",
    "                    d=d+1\n",
    "                    res = dimQ(row[0],d,10)\n",
    "                eta=2*lin[1]/(lin[1]+(vertices/d))\n",
    "                if eta <= mini:\n",
    "                    mini=min(mini,eta)\n",
    "                    print(l,' ',lin,' ',eta,' ',d)\n",
    "    if mini > 1:\n",
    "        mini=1\n",
    "    print(vertices,'\\t',mini,'\\t',l)\n",
    "                # row variable is a list that represents a row in csv\n",
    "\n",
    "t1=time()"
   ]
  },
  {
   "cell_type": "code",
   "execution_count": 14,
   "id": "d150fe00",
   "metadata": {},
   "outputs": [
    {
     "name": "stdout",
     "output_type": "stream",
     "text": [
      "6   ['U}hPOSS????@?C???@g?e??s?DgEO?H_??q@?R?_', 7, 7.25131314, 7.33333333]   70/57   5\n",
      "18   ['U~rH`cKBGE?X?K?K_@_?X??o?BG?@_?@c??N??Bw', 5, 5.38630291, 5.5]   70/57   7\n",
      "45   ['U}vc?ocHGcGPGbAaBG?CR@@_@pO@ag?kO@_h?OIw', 5, 5.38630291, 5.5]   70/57   7\n",
      "47   ['U}zS?ggIWdagG_AP?VA?A?agCAOCKWAIo?aU??\\\\W', 5, 5.38630291, 5.5]   70/57   7\n",
      "48   ['U~zLaWqCgY?U@Q????G?B??{?Do@ggATO?Jh?DT_', 5, 5.38630291, 5.5]   70/57   7\n",
      "82   ['U}uTN@IBiBCVEC@ccG@AHE?gS@wGBgATO?kR?Aqw', 5, 5.38630291, 5.5]   70/57   7\n",
      "95   ['U~zLc@KKg\\\\av?o@O@GGaCOO[`Aw?M_?VC?QV?GYw', 4, 4.81644749, 5.5]   32/27   8\n",
      "129   ['U}iCCA?RxnBKUaNCBS?y?OwSdaaDIhILTALsHDm?', 6, 6.70930807, 7.33333333]   24/23   4\n",
      "145   ['U}nMTao^y[HoKWKW?p_KW?Wo@b??Xw?Xw?B~??~o', 6, 6.9035698, 7.33333333]   24/23   4\n"
     ]
    },
    {
     "ename": "LinAlgError",
     "evalue": "Internal Error.",
     "output_type": "error",
     "traceback": [
      "\u001b[0;31m---------------------------------------------------------------------------\u001b[0m",
      "\u001b[0;31mLinAlgError\u001b[0m                               Traceback (most recent call last)",
      "\u001b[0;32m/var/folders/fy/t_1w8r6d1mn9tr0m6cp8w1zw0000gp/T/ipykernel_6706/2395951378.py\u001b[0m in \u001b[0;36m<module>\u001b[0;34m\u001b[0m\n\u001b[1;32m     22\u001b[0m             \u001b[0;31m#print(d)\u001b[0m\u001b[0;34m\u001b[0m\u001b[0;34m\u001b[0m\u001b[0m\n\u001b[1;32m     23\u001b[0m             \u001b[0;32mif\u001b[0m \u001b[0md\u001b[0m\u001b[0;34m>\u001b[0m\u001b[0mInteger\u001b[0m\u001b[0;34m(\u001b[0m\u001b[0;36m2\u001b[0m\u001b[0;34m)\u001b[0m\u001b[0;34m:\u001b[0m\u001b[0;34m\u001b[0m\u001b[0;34m\u001b[0m\u001b[0m\n\u001b[0;32m---> 24\u001b[0;31m                 \u001b[0mres\u001b[0m \u001b[0;34m=\u001b[0m \u001b[0mdimQ\u001b[0m\u001b[0;34m(\u001b[0m\u001b[0mrow\u001b[0m\u001b[0;34m[\u001b[0m\u001b[0mInteger\u001b[0m\u001b[0;34m(\u001b[0m\u001b[0;36m0\u001b[0m\u001b[0;34m)\u001b[0m\u001b[0;34m]\u001b[0m\u001b[0;34m,\u001b[0m\u001b[0md\u001b[0m\u001b[0;34m,\u001b[0m\u001b[0mInteger\u001b[0m\u001b[0;34m(\u001b[0m\u001b[0;36m10\u001b[0m\u001b[0;34m)\u001b[0m\u001b[0;34m)\u001b[0m\u001b[0;34m\u001b[0m\u001b[0;34m\u001b[0m\u001b[0m\n\u001b[0m\u001b[1;32m     25\u001b[0m                 \u001b[0;32mwhile\u001b[0m \u001b[0mres\u001b[0m \u001b[0;34m!=\u001b[0m \u001b[0;34m'True'\u001b[0m\u001b[0;34m:\u001b[0m\u001b[0;34m\u001b[0m\u001b[0;34m\u001b[0m\u001b[0m\n\u001b[1;32m     26\u001b[0m                     \u001b[0md\u001b[0m\u001b[0;34m=\u001b[0m\u001b[0md\u001b[0m\u001b[0;34m+\u001b[0m\u001b[0mInteger\u001b[0m\u001b[0;34m(\u001b[0m\u001b[0;36m1\u001b[0m\u001b[0;34m)\u001b[0m\u001b[0;34m\u001b[0m\u001b[0;34m\u001b[0m\u001b[0m\n",
      "\u001b[0;32m~/ownCloud/clientsync/InvesEnCurso/eta/xibound/newdim.py\u001b[0m in \u001b[0;36mdimQ\u001b[0;34m(ghf, r, t)\u001b[0m\n\u001b[1;32m     45\u001b[0m             \u001b[0mstart\u001b[0m \u001b[0;34m=\u001b[0m \u001b[0mnewtime\u001b[0m\u001b[0;34m\u001b[0m\u001b[0;34m\u001b[0m\u001b[0m\n\u001b[1;32m     46\u001b[0m         \u001b[0;32mfor\u001b[0m \u001b[0mi\u001b[0m \u001b[0;32min\u001b[0m \u001b[0mrange\u001b[0m\u001b[0;34m(\u001b[0m\u001b[0mt\u001b[0m\u001b[0;34m)\u001b[0m\u001b[0;34m:\u001b[0m \u001b[0;31m# t is the number of steps in the see-saw method in each monitored period\u001b[0m\u001b[0;34m\u001b[0m\u001b[0;34m\u001b[0m\u001b[0m\n\u001b[0;32m---> 47\u001b[0;31m             \u001b[0miterM\u001b[0m \u001b[0;34m=\u001b[0m \u001b[0mpsdrF\u001b[0m\u001b[0;34m(\u001b[0m\u001b[0miterM\u001b[0m\u001b[0;34m,\u001b[0m\u001b[0mr\u001b[0m\u001b[0;34m,\u001b[0m\u001b[0md\u001b[0m\u001b[0;34m)\u001b[0m\u001b[0;34m\u001b[0m\u001b[0;34m\u001b[0m\u001b[0m\n\u001b[0m\u001b[1;32m     48\u001b[0m             \u001b[0miterM\u001b[0m \u001b[0;34m=\u001b[0m \u001b[0mnormF\u001b[0m\u001b[0;34m(\u001b[0m\u001b[0miterM\u001b[0m\u001b[0;34m,\u001b[0m\u001b[0madjc\u001b[0m\u001b[0;34m,\u001b[0m\u001b[0md\u001b[0m\u001b[0;34m)\u001b[0m\u001b[0;34m\u001b[0m\u001b[0;34m\u001b[0m\u001b[0m\n\u001b[1;32m     49\u001b[0m         \u001b[0mvas\u001b[0m \u001b[0;34m=\u001b[0m \u001b[0meigvalsh\u001b[0m\u001b[0;34m(\u001b[0m\u001b[0miterM\u001b[0m\u001b[0;34m,\u001b[0m\u001b[0meigvals\u001b[0m\u001b[0;34m=\u001b[0m\u001b[0;34m(\u001b[0m\u001b[0;36m0\u001b[0m\u001b[0;34m,\u001b[0m\u001b[0md\u001b[0m\u001b[0;34m-\u001b[0m\u001b[0mr\u001b[0m\u001b[0;34m-\u001b[0m\u001b[0;36m1\u001b[0m\u001b[0;34m)\u001b[0m\u001b[0;34m)\u001b[0m\u001b[0;34m\u001b[0m\u001b[0;34m\u001b[0m\u001b[0m\n",
      "\u001b[0;32m~/ownCloud/clientsync/InvesEnCurso/eta/xibound/newdim.py\u001b[0m in \u001b[0;36mpsdrF\u001b[0;34m(mat, r, d)\u001b[0m\n\u001b[1;32m     11\u001b[0m     \u001b[0;32mif\u001b[0m \u001b[0md\u001b[0m \u001b[0;32mis\u001b[0m \u001b[0;32mNone\u001b[0m\u001b[0;34m:\u001b[0m\u001b[0;34m\u001b[0m\u001b[0;34m\u001b[0m\u001b[0m\n\u001b[1;32m     12\u001b[0m         \u001b[0md\u001b[0m \u001b[0;34m=\u001b[0m \u001b[0mlen\u001b[0m\u001b[0;34m(\u001b[0m\u001b[0mmat\u001b[0m\u001b[0;34m)\u001b[0m\u001b[0;34m\u001b[0m\u001b[0;34m\u001b[0m\u001b[0m\n\u001b[0;32m---> 13\u001b[0;31m     \u001b[0mvas\u001b[0m\u001b[0;34m,\u001b[0m\u001b[0mves\u001b[0m \u001b[0;34m=\u001b[0m \u001b[0meigh\u001b[0m\u001b[0;34m(\u001b[0m\u001b[0mmat\u001b[0m\u001b[0;34m)\u001b[0m\u001b[0;34m\u001b[0m\u001b[0;34m\u001b[0m\u001b[0m\n\u001b[0m\u001b[1;32m     14\u001b[0m     \u001b[0mvas\u001b[0m\u001b[0;34m[\u001b[0m\u001b[0mvas\u001b[0m\u001b[0;34m<\u001b[0m\u001b[0;36m0\u001b[0m\u001b[0;34m]\u001b[0m\u001b[0;34m=\u001b[0m\u001b[0;36m0\u001b[0m\u001b[0;34m\u001b[0m\u001b[0;34m\u001b[0m\u001b[0m\n\u001b[1;32m     15\u001b[0m     \u001b[0mpvas\u001b[0m\u001b[0;34m=\u001b[0m\u001b[0mnp\u001b[0m\u001b[0;34m.\u001b[0m\u001b[0mdiag\u001b[0m\u001b[0;34m(\u001b[0m\u001b[0mvas\u001b[0m\u001b[0;34m*\u001b[0m\u001b[0mnp\u001b[0m\u001b[0;34m.\u001b[0m\u001b[0marray\u001b[0m\u001b[0;34m(\u001b[0m\u001b[0;34m[\u001b[0m\u001b[0;36m0\u001b[0m\u001b[0;34m]\u001b[0m\u001b[0;34m*\u001b[0m\u001b[0;34m(\u001b[0m\u001b[0md\u001b[0m\u001b[0;34m-\u001b[0m\u001b[0mr\u001b[0m\u001b[0;34m)\u001b[0m\u001b[0;34m+\u001b[0m\u001b[0;34m[\u001b[0m\u001b[0;36m1\u001b[0m\u001b[0;34m]\u001b[0m\u001b[0;34m*\u001b[0m\u001b[0mr\u001b[0m\u001b[0;34m)\u001b[0m\u001b[0;34m)\u001b[0m\u001b[0;34m\u001b[0m\u001b[0;34m\u001b[0m\u001b[0m\n",
      "\u001b[0;32m/private/var/tmp/sage-9.5-current/local/var/lib/sage/venv-python3.9.9/lib/python3.9/site-packages/scipy/linalg/decomp.py\u001b[0m in \u001b[0;36meigh\u001b[0;34m(a, b, lower, eigvals_only, overwrite_a, overwrite_b, turbo, eigvals, type, check_finite, subset_by_index, subset_by_value, driver)\u001b[0m\n\u001b[1;32m    602\u001b[0m                 \u001b[0mmsg\u001b[0m \u001b[0;34m=\u001b[0m \u001b[0mdrv_err\u001b[0m\u001b[0;34m[\u001b[0m\u001b[0;34m'evr'\u001b[0m\u001b[0;34m]\u001b[0m\u001b[0;34m\u001b[0m\u001b[0;34m\u001b[0m\u001b[0m\n\u001b[1;32m    603\u001b[0m \u001b[0;34m\u001b[0m\u001b[0m\n\u001b[0;32m--> 604\u001b[0;31m             \u001b[0;32mraise\u001b[0m \u001b[0mLinAlgError\u001b[0m\u001b[0;34m(\u001b[0m\u001b[0mmsg\u001b[0m\u001b[0;34m)\u001b[0m\u001b[0;34m\u001b[0m\u001b[0;34m\u001b[0m\u001b[0m\n\u001b[0m\u001b[1;32m    605\u001b[0m \u001b[0;34m\u001b[0m\u001b[0m\n\u001b[1;32m    606\u001b[0m \u001b[0;34m\u001b[0m\u001b[0m\n",
      "\u001b[0;31mLinAlgError\u001b[0m: Internal Error."
     ]
    }
   ],
   "source": [
    "t0=time()\n",
    "mini=1000\n",
    "\n",
    "for vertices in range(22,31):\n",
    "    mini=1000\n",
    "    with open('vtc'+str(vertices)+'t','r') as read_obj:\n",
    "        csv_reader = reader(read_obj,delimiter='\\t')\n",
    "        # header = next(csv_reader)\n",
    "        l=0\n",
    "        # Check file as empty\n",
    "        # if header != None:\n",
    "        # Iterate over each row after the header in the csv\n",
    "        for row in csv_reader: \n",
    "            # row variable is a list that represents a row in csv\n",
    "            l=l+1\n",
    "            lin=[row[0]]\n",
    "            for s in row[1:]:\n",
    "                n=eval(s)\n",
    "                lin=lin+[n]\n",
    "            # print(lin)\n",
    "            d=int(vertices/lin[3])\n",
    "            #print(d)\n",
    "            if d>2:\n",
    "                res = dimQ(row[0],d,10)\n",
    "                while res != 'True':\n",
    "                    d=d+1\n",
    "                    res = dimQ(row[0],d,10)\n",
    "                eta=2*lin[1]/(lin[1]+(vertices/d))\n",
    "                if eta <= mini:\n",
    "                    mini=min(mini,eta)\n",
    "                    print(l,' ',lin,' ',eta,' ',d)\n",
    "    if mini > 1:\n",
    "        mini=1\n",
    "    print(vertices,'\\t',mini,'\\t',l)\n",
    "                # row variable is a list that represents a row in csv\n",
    "\n",
    "t1=time()"
   ]
  },
  {
   "cell_type": "code",
   "execution_count": 8,
   "id": "ba00e593",
   "metadata": {
    "scrolled": true
   },
   "outputs": [
    {
     "ename": "KeyboardInterrupt",
     "evalue": "",
     "output_type": "error",
     "traceback": [
      "\u001b[0;31m---------------------------------------------------------------------------\u001b[0m",
      "\u001b[0;31mKeyboardInterrupt\u001b[0m                         Traceback (most recent call last)",
      "\u001b[0;32m<ipython-input-8-d4930e877267>\u001b[0m in \u001b[0;36m<module>\u001b[0;34m\u001b[0m\n\u001b[1;32m     25\u001b[0m                 \u001b[0;32mwhile\u001b[0m \u001b[0;34m(\u001b[0m\u001b[0mres\u001b[0m \u001b[0;34m!=\u001b[0m \u001b[0;34m'True'\u001b[0m \u001b[0;32mand\u001b[0m \u001b[0mlin\u001b[0m\u001b[0;34m[\u001b[0m\u001b[0mInteger\u001b[0m\u001b[0;34m(\u001b[0m\u001b[0;36m1\u001b[0m\u001b[0;34m)\u001b[0m\u001b[0;34m]\u001b[0m\u001b[0;34m*\u001b[0m\u001b[0md\u001b[0m \u001b[0;34m<\u001b[0m \u001b[0mvertices\u001b[0m\u001b[0;34m)\u001b[0m\u001b[0;34m:\u001b[0m\u001b[0;34m\u001b[0m\u001b[0;34m\u001b[0m\u001b[0m\n\u001b[1;32m     26\u001b[0m                     \u001b[0md\u001b[0m\u001b[0;34m=\u001b[0m\u001b[0md\u001b[0m\u001b[0;34m+\u001b[0m\u001b[0mInteger\u001b[0m\u001b[0;34m(\u001b[0m\u001b[0;36m1\u001b[0m\u001b[0;34m)\u001b[0m\u001b[0;34m\u001b[0m\u001b[0;34m\u001b[0m\u001b[0m\n\u001b[0;32m---> 27\u001b[0;31m                     \u001b[0mres\u001b[0m \u001b[0;34m=\u001b[0m \u001b[0mdimQ\u001b[0m\u001b[0;34m(\u001b[0m\u001b[0mrow\u001b[0m\u001b[0;34m[\u001b[0m\u001b[0mInteger\u001b[0m\u001b[0;34m(\u001b[0m\u001b[0;36m0\u001b[0m\u001b[0;34m)\u001b[0m\u001b[0;34m]\u001b[0m\u001b[0;34m,\u001b[0m\u001b[0md\u001b[0m\u001b[0;34m,\u001b[0m\u001b[0mInteger\u001b[0m\u001b[0;34m(\u001b[0m\u001b[0;36m10\u001b[0m\u001b[0;34m)\u001b[0m\u001b[0;34m)\u001b[0m\u001b[0;34m\u001b[0m\u001b[0;34m\u001b[0m\u001b[0m\n\u001b[0m\u001b[1;32m     28\u001b[0m                 \u001b[0meta\u001b[0m\u001b[0;34m=\u001b[0m\u001b[0mInteger\u001b[0m\u001b[0;34m(\u001b[0m\u001b[0;36m2\u001b[0m\u001b[0;34m)\u001b[0m\u001b[0;34m*\u001b[0m\u001b[0mlin\u001b[0m\u001b[0;34m[\u001b[0m\u001b[0mInteger\u001b[0m\u001b[0;34m(\u001b[0m\u001b[0;36m1\u001b[0m\u001b[0;34m)\u001b[0m\u001b[0;34m]\u001b[0m\u001b[0;34m/\u001b[0m\u001b[0;34m(\u001b[0m\u001b[0mlin\u001b[0m\u001b[0;34m[\u001b[0m\u001b[0mInteger\u001b[0m\u001b[0;34m(\u001b[0m\u001b[0;36m1\u001b[0m\u001b[0;34m)\u001b[0m\u001b[0;34m]\u001b[0m\u001b[0;34m+\u001b[0m\u001b[0;34m(\u001b[0m\u001b[0mvertices\u001b[0m\u001b[0;34m/\u001b[0m\u001b[0md\u001b[0m\u001b[0;34m)\u001b[0m\u001b[0;34m)\u001b[0m\u001b[0;34m\u001b[0m\u001b[0;34m\u001b[0m\u001b[0m\n\u001b[1;32m     29\u001b[0m                 \u001b[0;32mif\u001b[0m \u001b[0meta\u001b[0m \u001b[0;34m<=\u001b[0m \u001b[0mmini\u001b[0m\u001b[0;34m:\u001b[0m\u001b[0;34m\u001b[0m\u001b[0;34m\u001b[0m\u001b[0m\n",
      "\u001b[0;32m~/owncloud2/clientsync/InvesEnCurso/eta/xibound/newdim.py\u001b[0m in \u001b[0;36mdimQ\u001b[0;34m(ghf, r, t)\u001b[0m\n\u001b[1;32m     45\u001b[0m             \u001b[0mstart\u001b[0m \u001b[0;34m=\u001b[0m \u001b[0mnewtime\u001b[0m\u001b[0;34m\u001b[0m\u001b[0;34m\u001b[0m\u001b[0m\n\u001b[1;32m     46\u001b[0m         \u001b[0;32mfor\u001b[0m \u001b[0mi\u001b[0m \u001b[0;32min\u001b[0m \u001b[0mrange\u001b[0m\u001b[0;34m(\u001b[0m\u001b[0mt\u001b[0m\u001b[0;34m)\u001b[0m\u001b[0;34m:\u001b[0m \u001b[0;31m# t is the number of steps in the see-saw method in each monitored period\u001b[0m\u001b[0;34m\u001b[0m\u001b[0;34m\u001b[0m\u001b[0m\n\u001b[0;32m---> 47\u001b[0;31m             \u001b[0miterM\u001b[0m \u001b[0;34m=\u001b[0m \u001b[0mpsdrF\u001b[0m\u001b[0;34m(\u001b[0m\u001b[0miterM\u001b[0m\u001b[0;34m,\u001b[0m\u001b[0mr\u001b[0m\u001b[0;34m,\u001b[0m\u001b[0md\u001b[0m\u001b[0;34m)\u001b[0m\u001b[0;34m\u001b[0m\u001b[0;34m\u001b[0m\u001b[0m\n\u001b[0m\u001b[1;32m     48\u001b[0m             \u001b[0miterM\u001b[0m \u001b[0;34m=\u001b[0m \u001b[0mnormF\u001b[0m\u001b[0;34m(\u001b[0m\u001b[0miterM\u001b[0m\u001b[0;34m,\u001b[0m\u001b[0madjc\u001b[0m\u001b[0;34m,\u001b[0m\u001b[0md\u001b[0m\u001b[0;34m)\u001b[0m\u001b[0;34m\u001b[0m\u001b[0;34m\u001b[0m\u001b[0m\n\u001b[1;32m     49\u001b[0m         \u001b[0mvas\u001b[0m \u001b[0;34m=\u001b[0m \u001b[0meigvalsh\u001b[0m\u001b[0;34m(\u001b[0m\u001b[0miterM\u001b[0m\u001b[0;34m,\u001b[0m\u001b[0meigvals\u001b[0m\u001b[0;34m=\u001b[0m\u001b[0;34m(\u001b[0m\u001b[0;36m0\u001b[0m\u001b[0;34m,\u001b[0m\u001b[0md\u001b[0m\u001b[0;34m-\u001b[0m\u001b[0mr\u001b[0m\u001b[0;34m-\u001b[0m\u001b[0;36m1\u001b[0m\u001b[0;34m)\u001b[0m\u001b[0;34m)\u001b[0m\u001b[0;34m\u001b[0m\u001b[0;34m\u001b[0m\u001b[0m\n",
      "\u001b[0;32m~/owncloud2/clientsync/InvesEnCurso/eta/xibound/newdim.py\u001b[0m in \u001b[0;36mpsdrF\u001b[0;34m(mat, r, d)\u001b[0m\n\u001b[1;32m     11\u001b[0m     \u001b[0;32mif\u001b[0m \u001b[0md\u001b[0m \u001b[0;32mis\u001b[0m \u001b[0;32mNone\u001b[0m\u001b[0;34m:\u001b[0m\u001b[0;34m\u001b[0m\u001b[0;34m\u001b[0m\u001b[0m\n\u001b[1;32m     12\u001b[0m         \u001b[0md\u001b[0m \u001b[0;34m=\u001b[0m \u001b[0mlen\u001b[0m\u001b[0;34m(\u001b[0m\u001b[0mmat\u001b[0m\u001b[0;34m)\u001b[0m\u001b[0;34m\u001b[0m\u001b[0;34m\u001b[0m\u001b[0m\n\u001b[0;32m---> 13\u001b[0;31m     \u001b[0mvas\u001b[0m\u001b[0;34m,\u001b[0m\u001b[0mves\u001b[0m \u001b[0;34m=\u001b[0m \u001b[0meigh\u001b[0m\u001b[0;34m(\u001b[0m\u001b[0mmat\u001b[0m\u001b[0;34m)\u001b[0m\u001b[0;34m\u001b[0m\u001b[0;34m\u001b[0m\u001b[0m\n\u001b[0m\u001b[1;32m     14\u001b[0m     \u001b[0mvas\u001b[0m\u001b[0;34m[\u001b[0m\u001b[0mvas\u001b[0m\u001b[0;34m<\u001b[0m\u001b[0;36m0\u001b[0m\u001b[0;34m]\u001b[0m\u001b[0;34m=\u001b[0m\u001b[0;36m0\u001b[0m\u001b[0;34m\u001b[0m\u001b[0;34m\u001b[0m\u001b[0m\n\u001b[1;32m     15\u001b[0m     \u001b[0mpvas\u001b[0m\u001b[0;34m=\u001b[0m\u001b[0mnp\u001b[0m\u001b[0;34m.\u001b[0m\u001b[0mdiag\u001b[0m\u001b[0;34m(\u001b[0m\u001b[0mvas\u001b[0m\u001b[0;34m*\u001b[0m\u001b[0mnp\u001b[0m\u001b[0;34m.\u001b[0m\u001b[0marray\u001b[0m\u001b[0;34m(\u001b[0m\u001b[0;34m[\u001b[0m\u001b[0;36m0\u001b[0m\u001b[0;34m]\u001b[0m\u001b[0;34m*\u001b[0m\u001b[0;34m(\u001b[0m\u001b[0md\u001b[0m\u001b[0;34m-\u001b[0m\u001b[0mr\u001b[0m\u001b[0;34m)\u001b[0m\u001b[0;34m+\u001b[0m\u001b[0;34m[\u001b[0m\u001b[0;36m1\u001b[0m\u001b[0;34m]\u001b[0m\u001b[0;34m*\u001b[0m\u001b[0mr\u001b[0m\u001b[0;34m)\u001b[0m\u001b[0;34m)\u001b[0m\u001b[0;34m\u001b[0m\u001b[0;34m\u001b[0m\u001b[0m\n",
      "\u001b[0;32m/usr/lib/python3/dist-packages/scipy/linalg/decomp.py\u001b[0m in \u001b[0;36meigh\u001b[0;34m(a, b, lower, eigvals_only, overwrite_a, overwrite_b, turbo, eigvals, type, check_finite, subset_by_index, subset_by_value, driver)\u001b[0m\n\u001b[1;32m    543\u001b[0m \u001b[0;34m\u001b[0m\u001b[0m\n\u001b[1;32m    544\u001b[0m         \u001b[0mdrv_args\u001b[0m\u001b[0;34m.\u001b[0m\u001b[0mupdate\u001b[0m\u001b[0;34m(\u001b[0m\u001b[0;34m{\u001b[0m\u001b[0;34m'lower'\u001b[0m\u001b[0;34m:\u001b[0m \u001b[0mlower\u001b[0m\u001b[0;34m,\u001b[0m \u001b[0;34m'compute_v'\u001b[0m\u001b[0;34m:\u001b[0m \u001b[0;36m0\u001b[0m \u001b[0;32mif\u001b[0m \u001b[0m_job\u001b[0m \u001b[0;34m==\u001b[0m \u001b[0;34m\"N\"\u001b[0m \u001b[0;32melse\u001b[0m \u001b[0;36m1\u001b[0m\u001b[0;34m}\u001b[0m\u001b[0;34m)\u001b[0m\u001b[0;34m\u001b[0m\u001b[0;34m\u001b[0m\u001b[0m\n\u001b[0;32m--> 545\u001b[0;31m         \u001b[0mw\u001b[0m\u001b[0;34m,\u001b[0m \u001b[0mv\u001b[0m\u001b[0;34m,\u001b[0m \u001b[0;34m*\u001b[0m\u001b[0mother_args\u001b[0m\u001b[0;34m,\u001b[0m \u001b[0minfo\u001b[0m \u001b[0;34m=\u001b[0m \u001b[0mdrv\u001b[0m\u001b[0;34m(\u001b[0m\u001b[0ma\u001b[0m\u001b[0;34m=\u001b[0m\u001b[0ma1\u001b[0m\u001b[0;34m,\u001b[0m \u001b[0;34m**\u001b[0m\u001b[0mdrv_args\u001b[0m\u001b[0;34m,\u001b[0m \u001b[0;34m**\u001b[0m\u001b[0mlwork_args\u001b[0m\u001b[0;34m)\u001b[0m\u001b[0;34m\u001b[0m\u001b[0;34m\u001b[0m\u001b[0m\n\u001b[0m\u001b[1;32m    546\u001b[0m \u001b[0;34m\u001b[0m\u001b[0m\n\u001b[1;32m    547\u001b[0m     \u001b[0;32melse\u001b[0m\u001b[0;34m:\u001b[0m  \u001b[0;31m# Generalized problem\u001b[0m\u001b[0;34m\u001b[0m\u001b[0;34m\u001b[0m\u001b[0m\n",
      "\u001b[0;32msrc/cysignals/signals.pyx\u001b[0m in \u001b[0;36mcysignals.signals.python_check_interrupt\u001b[0;34m()\u001b[0m\n",
      "\u001b[0;31mKeyboardInterrupt\u001b[0m: "
     ]
    }
   ],
   "source": [
    "t0=time()\n",
    "mini=1000\n",
    "\n",
    "for vertices in range(24,25):\n",
    "    mini=1000\n",
    "    with open('vtc'+str(vertices)+'tB','r') as read_obj:\n",
    "        csv_reader = reader(read_obj,delimiter='\\t')\n",
    "        # header = next(csv_reader)\n",
    "        l=0\n",
    "        # Check file as empty\n",
    "        # if header != None:\n",
    "        # Iterate over each row after the header in the csv\n",
    "        for row in csv_reader: \n",
    "            # row variable is a list that represents a row in csv\n",
    "            l=l+1\n",
    "            lin=[row[0]]\n",
    "            for s in row[1:]:\n",
    "                n=eval(s)\n",
    "                lin=lin+[n]\n",
    "            # print(lin)\n",
    "            d=int(vertices/lin[3])\n",
    "            #print(d)\n",
    "            if d>2:\n",
    "                res = dimQ(row[0],d,10)\n",
    "                while (res != 'True' and lin[1]*d < vertices):\n",
    "                    d=d+1\n",
    "                    res = dimQ(row[0],d,10)\n",
    "                eta=2*lin[1]/(lin[1]+(vertices/d))\n",
    "                if eta <= mini:\n",
    "                    mini=min(mini,eta)\n",
    "                if eta < 1:\n",
    "                    print(l,' ',lin,' ',eta,' ',d)\n",
    "    if mini > 1:\n",
    "        mini=1\n",
    "    print(vertices,'\\t',mini,'\\t',l)\n",
    "                # row variable is a list that represents a row in csv\n",
    "\n",
    "t1=time()"
   ]
  },
  {
   "cell_type": "code",
   "execution_count": 7,
   "id": "bd34667e",
   "metadata": {},
   "outputs": [
    {
     "name": "stdout",
     "output_type": "stream",
     "text": [
      "8 \t 24 \t 1 \t ['W}~t|R@wE_wKD]DxNo?T\\\\@lkBx`OypRLGB\\\\dTHPwisvDBZq', 4, 4.6771999, 6]\n"
     ]
    }
   ],
   "source": [
    "print(l,'\\t',vertices,'\\t',mini,'\\t',lin)\n"
   ]
  },
  {
   "cell_type": "code",
   "execution_count": 6,
   "id": "d4f3af4d",
   "metadata": {},
   "outputs": [
    {
     "name": "stdout",
     "output_type": "stream",
     "text": [
      "['W}jLeA_RxniWJGBGAWAEPHKOGaGaG_OESOCt??zg?Jm_?{{', 6, 6.8801856, 8]\n"
     ]
    }
   ],
   "source": [
    "print(lin)"
   ]
  },
  {
   "cell_type": "code",
   "execution_count": 17,
   "id": "1fcf2535",
   "metadata": {},
   "outputs": [
    {
     "name": "stdout",
     "output_type": "stream",
     "text": [
      "['U}j\\\\}u{wvHXCkPSndjo\\\\|Dvpwmjqmb{r?Bi~@\\\\Vw', 4, 4.59536023, 5.5]\n"
     ]
    }
   ],
   "source": [
    "print(lin)"
   ]
  },
  {
   "cell_type": "code",
   "execution_count": null,
   "id": "8e5954a4",
   "metadata": {},
   "outputs": [],
   "source": []
  }
 ],
 "metadata": {
  "kernelspec": {
   "display_name": "SageMath 9.2",
   "language": "sage",
   "name": "sagemath"
  },
  "language_info": {
   "codemirror_mode": {
    "name": "ipython",
    "version": 3
   },
   "file_extension": ".py",
   "mimetype": "text/x-python",
   "name": "python",
   "nbconvert_exporter": "python",
   "pygments_lexer": "ipython3",
   "version": "3.9.7"
  }
 },
 "nbformat": 4,
 "nbformat_minor": 5
}
