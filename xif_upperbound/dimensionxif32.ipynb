{
 "cells": [
  {
   "cell_type": "code",
   "execution_count": 1,
   "id": "otherwise-container",
   "metadata": {},
   "outputs": [],
   "source": [
    "from scipy.linalg import eigh, eigvalsh\n",
    "from scipy.sparse import coo_matrix\n",
    "import numpy as np\n",
    "import networkx,math,sys\n",
    "import time\n",
    "from scipy.stats import unitary_group, ortho_group\n",
    "np.set_printoptions(precision=4)\n",
    "np.set_printoptions(suppress=True)\n",
    "\n",
    "def psdrF(mat,r,d=None):\n",
    "    if d is None:\n",
    "        d = len(mat)\n",
    "    vas,ves = eigh(mat)\n",
    "    vas[vas<0]=0\n",
    "    pvas=np.diag(vas*np.array([0]*(d-r)+[1]*r))\n",
    "    ves = np.matrix(ves)\n",
    "    return np.matmul(np.matmul(ves,pvas),ves.H)\n",
    "\n",
    "def normF(mat,adj,d=None):\n",
    "    if d is None:\n",
    "        d = len(mat)\n",
    "    return np.multiply(mat,adj) + 1*np.identity(d)\n",
    "\n",
    "def ranH(d):\n",
    "    Mr = np.random.rand(d,d)\n",
    "    Mi = np.random.rand(d,d)\n",
    "    M = (Mr+Mr.T)/2 + 1j*(Mi-Mi.T)/2\n",
    "    return np.matrix(M)\n",
    "\n",
    "def dimQ(ghf,r,t): # k is the rank of the projectors; r is the rank of the matrix, i.e., the dimension of the vectors; t is the number of steps in the see-saw method in each monitored period\n",
    "    if isinstance(ghf,str):gh = networkx.from_graph6_bytes(ghf.encode())\n",
    "    elif isinstance(ghf,list) or isinstance(ghf,np.matrix):gh = networkx.Graph(ghf)\n",
    "    else:return('Accepted types:str of graph6 format,list of edges, np.matrix of adjacency matrix')\n",
    "    d = len(gh)\n",
    "    adjc = 1-np.matrix(networkx.adjacency_matrix(gh).A)-np.identity(d)\n",
    "    iterM = ranH(d)\n",
    "    tmp0 = d\n",
    "    tmp1 = 2*d\n",
    "    start0 = time.time()\n",
    "    start = start0\n",
    "    while abs(tmp1-tmp0)>1e-9 and start-start0<30:\n",
    "        newtime = time.time()\n",
    "        if newtime-start>3:\n",
    "            iterM = iterM + ranH(d)/100\n",
    "            start = newtime\n",
    "        for i in range(t): # t is the number of steps in the see-saw method in each monitored period\n",
    "            iterM = psdrF(iterM,r,d)\n",
    "            iterM = normF(iterM,adjc,d)\n",
    "        vas = eigvalsh(iterM,eigvals=(0,d-r-1))\n",
    "        tmp0 = tmp1\n",
    "        tmp1 = sum(abs(vas))\n",
    "    #return [abs(tmp1-tmp0)<1e-9,tmp1<1e-9]\n",
    "    if tmp1<1e-9:\n",
    "        return 'True'\n",
    "    else:\n",
    "        return 'Undetermied'\n",
    "\n",
    "def dimQM(ghf,r,lt): # lt is the number of rounds\n",
    "    res = []\n",
    "    for i in range(lt):\n",
    "        tmp = dimQ(ghf,r,20)\n",
    "        if tmp[0]:res.append(tmp[1])\n",
    "        if tmp[1]<1e-6:return [len(res),tmp]\n",
    "        if len(res)>=5:return [len(res),min(res)]\n",
    "    return [len(res),min(res+[1000])]\n",
    "\n"
   ]
  },
  {
   "cell_type": "code",
   "execution_count": 2,
   "id": "removable-delay",
   "metadata": {},
   "outputs": [
    {
     "name": "stdout",
     "output_type": "stream",
     "text": [
      "True\n"
     ]
    }
   ],
   "source": [
    "from newdim import *\n",
    "\n",
    "gh = [[0,1],[1,2],[2,3],[3,4],[0,4]] #edge format\n",
    "gh = 'Dhc' #graph6 format\n",
    "res = dimQ(gh,3,10) # graph, orthogonal rank to check, length of iteration in each small step (the larger the more accurate, then more time)\n",
    "# The result 'Ture' means that we have a orthogonal representation with such a rank, 'Undetermined' means that it cannot be decided by this routine. We can always increase the targeted orthogonal rank to obtain the result 'True'.\n",
    "print(res)"
   ]
  },
  {
   "cell_type": "code",
   "execution_count": 3,
   "id": "solar-citizen",
   "metadata": {},
   "outputs": [],
   "source": [
    "import csv\n",
    "from csv import reader\n",
    "from time import time"
   ]
  },
  {
   "cell_type": "code",
   "execution_count": 10,
   "id": "whole-thumbnail",
   "metadata": {},
   "outputs": [
    {
     "ename": "LinAlgError",
     "evalue": "Internal Error.",
     "output_type": "error",
     "traceback": [
      "\u001b[0;31m---------------------------------------------------------------------------\u001b[0m",
      "\u001b[0;31mLinAlgError\u001b[0m                               Traceback (most recent call last)",
      "\u001b[0;32m<ipython-input-10-7067db123c0d>\u001b[0m in \u001b[0;36m<module>\u001b[0;34m\u001b[0m\n\u001b[1;32m     23\u001b[0m             \u001b[0;32mwhile\u001b[0m \u001b[0;34m(\u001b[0m\u001b[0mres\u001b[0m \u001b[0;34m!=\u001b[0m \u001b[0;34m'True'\u001b[0m \u001b[0;32mand\u001b[0m \u001b[0mlin\u001b[0m\u001b[0;34m[\u001b[0m\u001b[0mInteger\u001b[0m\u001b[0;34m(\u001b[0m\u001b[0;36m1\u001b[0m\u001b[0;34m)\u001b[0m\u001b[0;34m]\u001b[0m \u001b[0;34m*\u001b[0m \u001b[0md\u001b[0m \u001b[0;34m<\u001b[0m \u001b[0mvertices\u001b[0m\u001b[0;34m)\u001b[0m \u001b[0;34m:\u001b[0m\u001b[0;34m\u001b[0m\u001b[0;34m\u001b[0m\u001b[0m\n\u001b[1;32m     24\u001b[0m                 \u001b[0md\u001b[0m\u001b[0;34m=\u001b[0m\u001b[0md\u001b[0m\u001b[0;34m+\u001b[0m\u001b[0mInteger\u001b[0m\u001b[0;34m(\u001b[0m\u001b[0;36m1\u001b[0m\u001b[0;34m)\u001b[0m\u001b[0;34m\u001b[0m\u001b[0;34m\u001b[0m\u001b[0m\n\u001b[0;32m---> 25\u001b[0;31m                 \u001b[0mres\u001b[0m \u001b[0;34m=\u001b[0m \u001b[0mdimQ\u001b[0m\u001b[0;34m(\u001b[0m\u001b[0mrow\u001b[0m\u001b[0;34m[\u001b[0m\u001b[0mInteger\u001b[0m\u001b[0;34m(\u001b[0m\u001b[0;36m0\u001b[0m\u001b[0;34m)\u001b[0m\u001b[0;34m]\u001b[0m\u001b[0;34m,\u001b[0m\u001b[0md\u001b[0m\u001b[0;34m,\u001b[0m\u001b[0mInteger\u001b[0m\u001b[0;34m(\u001b[0m\u001b[0;36m10\u001b[0m\u001b[0;34m)\u001b[0m\u001b[0;34m)\u001b[0m\u001b[0;34m\u001b[0m\u001b[0;34m\u001b[0m\u001b[0m\n\u001b[0m\u001b[1;32m     26\u001b[0m             \u001b[0meta\u001b[0m\u001b[0;34m=\u001b[0m\u001b[0mInteger\u001b[0m\u001b[0;34m(\u001b[0m\u001b[0;36m2\u001b[0m\u001b[0;34m)\u001b[0m\u001b[0;34m*\u001b[0m\u001b[0mlin\u001b[0m\u001b[0;34m[\u001b[0m\u001b[0mInteger\u001b[0m\u001b[0;34m(\u001b[0m\u001b[0;36m1\u001b[0m\u001b[0;34m)\u001b[0m\u001b[0;34m]\u001b[0m\u001b[0;34m/\u001b[0m\u001b[0;34m(\u001b[0m\u001b[0mlin\u001b[0m\u001b[0;34m[\u001b[0m\u001b[0mInteger\u001b[0m\u001b[0;34m(\u001b[0m\u001b[0;36m1\u001b[0m\u001b[0;34m)\u001b[0m\u001b[0;34m]\u001b[0m\u001b[0;34m+\u001b[0m\u001b[0;34m(\u001b[0m\u001b[0mvertices\u001b[0m\u001b[0;34m/\u001b[0m\u001b[0md\u001b[0m\u001b[0;34m)\u001b[0m\u001b[0;34m)\u001b[0m\u001b[0;34m\u001b[0m\u001b[0;34m\u001b[0m\u001b[0m\n\u001b[1;32m     27\u001b[0m             \u001b[0;32mif\u001b[0m \u001b[0meta\u001b[0m \u001b[0;34m<=\u001b[0m \u001b[0mmini\u001b[0m\u001b[0;34m:\u001b[0m\u001b[0;34m\u001b[0m\u001b[0;34m\u001b[0m\u001b[0m\n",
      "\u001b[0;32m~/owncloud2/clientsync/InvesEnCurso/eta/xibound/newdim.py\u001b[0m in \u001b[0;36mdimQ\u001b[0;34m(ghf, r, t)\u001b[0m\n\u001b[1;32m     45\u001b[0m             \u001b[0mstart\u001b[0m \u001b[0;34m=\u001b[0m \u001b[0mnewtime\u001b[0m\u001b[0;34m\u001b[0m\u001b[0;34m\u001b[0m\u001b[0m\n\u001b[1;32m     46\u001b[0m         \u001b[0;32mfor\u001b[0m \u001b[0mi\u001b[0m \u001b[0;32min\u001b[0m \u001b[0mrange\u001b[0m\u001b[0;34m(\u001b[0m\u001b[0mt\u001b[0m\u001b[0;34m)\u001b[0m\u001b[0;34m:\u001b[0m \u001b[0;31m# t is the number of steps in the see-saw method in each monitored period\u001b[0m\u001b[0;34m\u001b[0m\u001b[0;34m\u001b[0m\u001b[0m\n\u001b[0;32m---> 47\u001b[0;31m             \u001b[0miterM\u001b[0m \u001b[0;34m=\u001b[0m \u001b[0mpsdrF\u001b[0m\u001b[0;34m(\u001b[0m\u001b[0miterM\u001b[0m\u001b[0;34m,\u001b[0m\u001b[0mr\u001b[0m\u001b[0;34m,\u001b[0m\u001b[0md\u001b[0m\u001b[0;34m)\u001b[0m\u001b[0;34m\u001b[0m\u001b[0;34m\u001b[0m\u001b[0m\n\u001b[0m\u001b[1;32m     48\u001b[0m             \u001b[0miterM\u001b[0m \u001b[0;34m=\u001b[0m \u001b[0mnormF\u001b[0m\u001b[0;34m(\u001b[0m\u001b[0miterM\u001b[0m\u001b[0;34m,\u001b[0m\u001b[0madjc\u001b[0m\u001b[0;34m,\u001b[0m\u001b[0md\u001b[0m\u001b[0;34m)\u001b[0m\u001b[0;34m\u001b[0m\u001b[0;34m\u001b[0m\u001b[0m\n\u001b[1;32m     49\u001b[0m         \u001b[0mvas\u001b[0m \u001b[0;34m=\u001b[0m \u001b[0meigvalsh\u001b[0m\u001b[0;34m(\u001b[0m\u001b[0miterM\u001b[0m\u001b[0;34m,\u001b[0m\u001b[0meigvals\u001b[0m\u001b[0;34m=\u001b[0m\u001b[0;34m(\u001b[0m\u001b[0;36m0\u001b[0m\u001b[0;34m,\u001b[0m\u001b[0md\u001b[0m\u001b[0;34m-\u001b[0m\u001b[0mr\u001b[0m\u001b[0;34m-\u001b[0m\u001b[0;36m1\u001b[0m\u001b[0;34m)\u001b[0m\u001b[0;34m)\u001b[0m\u001b[0;34m\u001b[0m\u001b[0;34m\u001b[0m\u001b[0m\n",
      "\u001b[0;32m~/owncloud2/clientsync/InvesEnCurso/eta/xibound/newdim.py\u001b[0m in \u001b[0;36mpsdrF\u001b[0;34m(mat, r, d)\u001b[0m\n\u001b[1;32m     11\u001b[0m     \u001b[0;32mif\u001b[0m \u001b[0md\u001b[0m \u001b[0;32mis\u001b[0m \u001b[0;32mNone\u001b[0m\u001b[0;34m:\u001b[0m\u001b[0;34m\u001b[0m\u001b[0;34m\u001b[0m\u001b[0m\n\u001b[1;32m     12\u001b[0m         \u001b[0md\u001b[0m \u001b[0;34m=\u001b[0m \u001b[0mlen\u001b[0m\u001b[0;34m(\u001b[0m\u001b[0mmat\u001b[0m\u001b[0;34m)\u001b[0m\u001b[0;34m\u001b[0m\u001b[0;34m\u001b[0m\u001b[0m\n\u001b[0;32m---> 13\u001b[0;31m     \u001b[0mvas\u001b[0m\u001b[0;34m,\u001b[0m\u001b[0mves\u001b[0m \u001b[0;34m=\u001b[0m \u001b[0meigh\u001b[0m\u001b[0;34m(\u001b[0m\u001b[0mmat\u001b[0m\u001b[0;34m)\u001b[0m\u001b[0;34m\u001b[0m\u001b[0;34m\u001b[0m\u001b[0m\n\u001b[0m\u001b[1;32m     14\u001b[0m     \u001b[0mvas\u001b[0m\u001b[0;34m[\u001b[0m\u001b[0mvas\u001b[0m\u001b[0;34m<\u001b[0m\u001b[0;36m0\u001b[0m\u001b[0;34m]\u001b[0m\u001b[0;34m=\u001b[0m\u001b[0;36m0\u001b[0m\u001b[0;34m\u001b[0m\u001b[0;34m\u001b[0m\u001b[0m\n\u001b[1;32m     15\u001b[0m     \u001b[0mpvas\u001b[0m\u001b[0;34m=\u001b[0m\u001b[0mnp\u001b[0m\u001b[0;34m.\u001b[0m\u001b[0mdiag\u001b[0m\u001b[0;34m(\u001b[0m\u001b[0mvas\u001b[0m\u001b[0;34m*\u001b[0m\u001b[0mnp\u001b[0m\u001b[0;34m.\u001b[0m\u001b[0marray\u001b[0m\u001b[0;34m(\u001b[0m\u001b[0;34m[\u001b[0m\u001b[0;36m0\u001b[0m\u001b[0;34m]\u001b[0m\u001b[0;34m*\u001b[0m\u001b[0;34m(\u001b[0m\u001b[0md\u001b[0m\u001b[0;34m-\u001b[0m\u001b[0mr\u001b[0m\u001b[0;34m)\u001b[0m\u001b[0;34m+\u001b[0m\u001b[0;34m[\u001b[0m\u001b[0;36m1\u001b[0m\u001b[0;34m]\u001b[0m\u001b[0;34m*\u001b[0m\u001b[0mr\u001b[0m\u001b[0;34m)\u001b[0m\u001b[0;34m)\u001b[0m\u001b[0;34m\u001b[0m\u001b[0;34m\u001b[0m\u001b[0m\n",
      "\u001b[0;32m/usr/lib/python3/dist-packages/scipy/linalg/decomp.py\u001b[0m in \u001b[0;36meigh\u001b[0;34m(a, b, lower, eigvals_only, overwrite_a, overwrite_b, turbo, eigvals, type, check_finite, subset_by_index, subset_by_value, driver)\u001b[0m\n\u001b[1;32m    602\u001b[0m                 \u001b[0mmsg\u001b[0m \u001b[0;34m=\u001b[0m \u001b[0mdrv_err\u001b[0m\u001b[0;34m[\u001b[0m\u001b[0;34m'evr'\u001b[0m\u001b[0;34m]\u001b[0m\u001b[0;34m\u001b[0m\u001b[0;34m\u001b[0m\u001b[0m\n\u001b[1;32m    603\u001b[0m \u001b[0;34m\u001b[0m\u001b[0m\n\u001b[0;32m--> 604\u001b[0;31m             \u001b[0;32mraise\u001b[0m \u001b[0mLinAlgError\u001b[0m\u001b[0;34m(\u001b[0m\u001b[0mmsg\u001b[0m\u001b[0;34m)\u001b[0m\u001b[0;34m\u001b[0m\u001b[0;34m\u001b[0m\u001b[0m\n\u001b[0m\u001b[1;32m    605\u001b[0m \u001b[0;34m\u001b[0m\u001b[0m\n\u001b[1;32m    606\u001b[0m \u001b[0;34m\u001b[0m\u001b[0m\n",
      "\u001b[0;31mLinAlgError\u001b[0m: Internal Error."
     ]
    }
   ],
   "source": [
    "mini=1000\n",
    "\n",
    "for vertices in range(32,33):\n",
    "    mini=1000\n",
    "    with open('grafosconminimo'+str(vertices)+'377.table.tsv','r') as read_obj:\n",
    "        csv_reader = reader(read_obj,delimiter='\\t')\n",
    "        # header = next(csv_reader)\n",
    "        l=0\n",
    "        # Check file as empty\n",
    "        # if header != None:\n",
    "        # Iterate over each row after the header in the csv\n",
    "        for row in csv_reader: \n",
    "            # row variable is a list that represents a row in csv\n",
    "            l=l+1\n",
    "            lin=[row[0]]\n",
    "            for s in row[1:]:\n",
    "                n=eval(s)\n",
    "                lin=lin+[n]\n",
    "            # print(lin)\n",
    "            d=lin[3]\n",
    "            #print(d)\n",
    "            res = dimQ(row[0],d,10)\n",
    "            while (res != 'True' and lin[1] * d < vertices) :\n",
    "                d=d+1\n",
    "                res = dimQ(row[0],d,10)\n",
    "            eta=2*lin[1]/(lin[1]+(vertices/d))\n",
    "            if eta <= mini:\n",
    "                mini=min(mini,eta)\n",
    "                if eta < 1:\n",
    "                    print(l,' ',lin,' ',eta,' ',d)\n",
    "    print(vertices,'\\t',mini,'\\t',l)"
   ]
  },
  {
   "cell_type": "code",
   "execution_count": 12,
   "id": "apparent-imaging",
   "metadata": {},
   "outputs": [
    {
     "name": "stdout",
     "output_type": "stream",
     "text": [
      "8   32   1   ['_|nM~ecqkNYhkejWZG^`gzK?U~`\\\\MqN\\\\dax{LesiVJdabVYAVrKIBmQhqJBI@^WZMUWX|xEUFoj@Z\\\\gbg]nS', 4, 5.5385062, 4, 0.6666666666666666]\n"
     ]
    }
   ],
   "source": [
    "print(l,' ',vertices,' ',mini,' ',lin)"
   ]
  },
  {
   "cell_type": "code",
   "execution_count": null,
   "id": "enclosed-communications",
   "metadata": {},
   "outputs": [],
   "source": []
  },
  {
   "cell_type": "code",
   "execution_count": null,
   "id": "involved-plastic",
   "metadata": {},
   "outputs": [],
   "source": []
  }
 ],
 "metadata": {
  "kernelspec": {
   "display_name": "SageMath 9.2",
   "language": "sage",
   "name": "sagemath"
  },
  "language_info": {
   "codemirror_mode": {
    "name": "ipython",
    "version": 3
   },
   "file_extension": ".py",
   "mimetype": "text/x-python",
   "name": "python",
   "nbconvert_exporter": "python",
   "pygments_lexer": "ipython3",
   "version": "3.9.7"
  }
 },
 "nbformat": 4,
 "nbformat_minor": 5
}
